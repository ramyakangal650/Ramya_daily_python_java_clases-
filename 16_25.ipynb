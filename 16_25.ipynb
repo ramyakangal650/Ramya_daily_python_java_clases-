{
  "nbformat": 4,
  "nbformat_minor": 0,
  "metadata": {
    "colab": {
      "provenance": []
    },
    "kernelspec": {
      "name": "python3",
      "display_name": "Python 3"
    },
    "language_info": {
      "name": "python"
    }
  },
  "cells": [
    {
      "cell_type": "code",
      "source": [
        "Example = [\"Laptop\",39000, \"Window\",\"Lenovo\",\"Bengaluru\",\"Laptop\",39000, \"MAC\", \"Lenovo\", \"Chikodi\" ]\n",
        "print(Example)\n",
        "print(Example.count(\"Lenovo\"))\n",
        "print(type(Example))\n",
        "#compile time programe\n",
        "a=10\n",
        "b=20\n",
        "print(a+b)\n",
        "#Run time programe\n",
        "X =int(input(\"Enter X value : \"))\n",
        "Y = int(input(\"Enter Y value :\"))\n",
        "print(X+Y)\n",
        "\n",
        "#Addition of 10 and 20 value is = 30\n",
        "\n",
        "\n",
        "first = float(input(\"Enter first value :\"))\n",
        "second = float(input(\"Enter second value :\"))\n",
        "print(first * second)\n",
        "\n"
      ],
      "metadata": {
        "colab": {
          "base_uri": "https://localhost:8080/"
        },
        "id": "9HXC59WBpQiN",
        "outputId": "bc7b2a6a-f8c8-49d6-e58e-10be82e02e5f"
      },
      "execution_count": null,
      "outputs": [
        {
          "output_type": "stream",
          "name": "stdout",
          "text": [
            "['Laptop', 39000, 'Window', 'Lenovo', 'Bengaluru', 'Laptop', 39000, 'MAC', 'Lenovo', 'Chikodi']\n",
            "2\n",
            "<class 'list'>\n",
            "30\n",
            "Enter X value : 10\n",
            "Enter Y value :20\n",
            "30\n",
            "Enter first value :10\n",
            "Enter second value :5\n",
            "50.0\n"
          ]
        }
      ]
    },
    {
      "cell_type": "code",
      "source": [],
      "metadata": {
        "id": "SW31Lw5kyk4B"
      },
      "execution_count": null,
      "outputs": []
    },
    {
      "cell_type": "code",
      "source": [],
      "metadata": {
        "id": "EO6I4lKZ06QE"
      },
      "execution_count": null,
      "outputs": []
    },
    {
      "cell_type": "code",
      "source": [],
      "metadata": {
        "id": "Vh1-ekC506OU"
      },
      "execution_count": null,
      "outputs": []
    },
    {
      "cell_type": "code",
      "source": [],
      "metadata": {
        "id": "4QdbP82506Im"
      },
      "execution_count": null,
      "outputs": []
    },
    {
      "cell_type": "code",
      "source": [],
      "metadata": {
        "id": "7-EScYXH06Dz"
      },
      "execution_count": null,
      "outputs": []
    },
    {
      "cell_type": "code",
      "source": [],
      "metadata": {
        "id": "yQNd4s0m055y"
      },
      "execution_count": null,
      "outputs": []
    },
    {
      "cell_type": "code",
      "source": [],
      "metadata": {
        "id": "h_cc9UaE054m"
      },
      "execution_count": null,
      "outputs": []
    },
    {
      "cell_type": "code",
      "source": [],
      "metadata": {
        "id": "rqCCvVPG052c"
      },
      "execution_count": null,
      "outputs": []
    },
    {
      "cell_type": "code",
      "source": [],
      "metadata": {
        "id": "KLTvhHrd051T"
      },
      "execution_count": null,
      "outputs": []
    },
    {
      "cell_type": "code",
      "source": [],
      "metadata": {
        "id": "si5l1ez005PM"
      },
      "execution_count": null,
      "outputs": []
    }
  ]
}