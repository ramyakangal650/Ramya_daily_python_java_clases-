{
  "nbformat": 4,
  "nbformat_minor": 0,
  "metadata": {
    "colab": {
      "provenance": []
    },
    "kernelspec": {
      "name": "python3",
      "display_name": "Python 3"
    },
    "language_info": {
      "name": "python"
    }
  },
  "cells": [
    {
      "cell_type": "code",
      "execution_count": null,
      "metadata": {
        "colab": {
          "base_uri": "https://localhost:8080/"
        },
        "id": "0kZiLotF2LiS",
        "outputId": "099157ed-b299-4227-f2c2-951fd386c58a"
      },
      "outputs": [
        {
          "output_type": "stream",
          "name": "stdout",
          "text": [
            "10\n",
            "20\n",
            "200\n"
          ]
        }
      ],
      "source": [
        "i= int(input())\n",
        "j= int(input())\n",
        "print(i*j)"
      ]
    },
    {
      "cell_type": "code",
      "source": [
        "x= 100\n",
        "y= 90\n",
        "print(f'Addition of {x} and {y} value is= {x+y}')\n",
        "print(f'Division of{x} and {y} value is = {x/y}')"
      ],
      "metadata": {
        "colab": {
          "base_uri": "https://localhost:8080/"
        },
        "id": "vUeFY2Ys4LuO",
        "outputId": "135b9373-b635-4178-d569-2c994857ef0c"
      },
      "execution_count": null,
      "outputs": [
        {
          "output_type": "stream",
          "name": "stdout",
          "text": [
            "Addition of 100 and 90 value is= 190\n",
            "Division of100 and 90 value is = 1.1111111111111112\n"
          ]
        }
      ]
    },
    {
      "cell_type": "code",
      "source": [
        "# Hi,Good morning My name is ramya , i have completed BCA in the year of 2025, currently i'm working in KLE BCA college chikodi 584128\n",
        "name = \" Ramya\"\n",
        "course = \"BCA\"\n",
        "year = 2025\n",
        "Department =  \"BCA\"\n",
        "pincode = 584128\n",
        "\n",
        "print(f\"Hi, Good morning My name is {name},i have completed {course} in the year of {year}, currentaly i'm working in KLE BK {Department} college chikodi {pincode}\")\n",
        "\n"
      ],
      "metadata": {
        "colab": {
          "base_uri": "https://localhost:8080/"
        },
        "id": "ULSw3QTZ5V7O",
        "outputId": "37ff0e56-b8b7-4ef7-89ea-ac2a9299c851"
      },
      "execution_count": null,
      "outputs": [
        {
          "output_type": "stream",
          "name": "stdout",
          "text": [
            "Hi, Good morning My name is  Ramya,i have completed BCA in the year of 2025, currentaly i'm working in KLE BK BCA college chikodi 584128\n"
          ]
        }
      ]
    },
    {
      "cell_type": "code",
      "source": [
        "num1 = 5\n",
        "num2 = 10\n",
        "sum = num1 * num2\n",
        "print(sum)\n",
        "\n",
        "num1= int(input(\"enter num1 value :\"))\n",
        "num2=int(input(\"enter num2 value :\"))\n",
        "\n",
        "print(\"addition of two numbers is :\", num1+num2)\n",
        "print(\"substraction of two numbers is :\", num1-num2)\n",
        "print(\"multiplication of two numbers is :\", num1*num2)\n",
        "print(\"division of two numbers is :\", num1/num2)\n",
        "print(\"floor division of two numbers is :\", num1//num2)\n",
        "print(\"modulus of two numbers is :\", num1%num2)\n",
        "print(\"exponent of two numbers is :\", num1**num2)"
      ],
      "metadata": {
        "colab": {
          "base_uri": "https://localhost:8080/"
        },
        "id": "JJo-OHw89XCO",
        "outputId": "155ca1ec-b051-411a-dfd1-771fc8469648"
      },
      "execution_count": null,
      "outputs": [
        {
          "output_type": "stream",
          "name": "stdout",
          "text": [
            "50\n",
            "enter num1 value :10\n",
            "enter num2 value :20\n",
            "addition of two numbers is : 30\n",
            "substraction of two numbers is : -10\n",
            "multiplication of two numbers is : 200\n",
            "division of two numbers is : 0.5\n",
            "floor division of two numbers is : 0\n",
            "modulus of two numbers is : 10\n",
            "exponent of two numbers is : 100000000000000000000\n"
          ]
        }
      ]
    },
    {
      "cell_type": "code",
      "source": [
        "a= 35\n",
        "b= 40\n",
        "\n",
        "print(a>b)\n",
        "print(a==35)\n",
        "print(b==40)\n",
        "print(a!=b)\n",
        "print(a<b)\n",
        "print(a>=b)\n",
        "print(a<=b)\n",
        "print(b!=a)\n",
        "print(b>=a)"
      ],
      "metadata": {
        "colab": {
          "base_uri": "https://localhost:8080/"
        },
        "id": "p06DNtOFFrlx",
        "outputId": "dfe767f8-9d2d-424d-83bb-bffdcf7370c2"
      },
      "execution_count": null,
      "outputs": [
        {
          "output_type": "stream",
          "name": "stdout",
          "text": [
            "False\n",
            "True\n",
            "True\n",
            "True\n",
            "True\n",
            "False\n",
            "True\n",
            "True\n",
            "True\n"
          ]
        }
      ]
    },
    {
      "cell_type": "code",
      "source": [
        "a = 20\n",
        "b = 35\n",
        "c = 13\n",
        "d = 10\n",
        "print( a ==b and c<d)\n",
        "print( 13 != c and d < c)\n",
        "print( b > a and d < c)\n",
        "print( 20 != a and c==b)\n",
        "print( a < b or d == c)\n",
        "print(( not(a<b)) and 100<200)\n",
        "print(not(d==10))\n",
        "print(35!=d or (not(20==a)))\n",
        "print(not(c<=b and (not(a <=c))))\n",
        "\n",
        "\n",
        "\n",
        "x = 10\n",
        "print(x)\n",
        "\n",
        "x -=2\n",
        "print(x)\n",
        "\n",
        "x*=5\n",
        "print(x)\n",
        "\n",
        "x //= 3\n",
        "print(x)\n",
        "\n",
        "x**=2\n",
        "print(x)\n",
        "\n",
        "x %= 4\n",
        "print(x)\n",
        "\n",
        "x += 9\n",
        "print(x)\n",
        "\n",
        "x /= 3\n",
        "print(x)\n",
        "\n",
        "1\n"
      ],
      "metadata": {
        "colab": {
          "base_uri": "https://localhost:8080/"
        },
        "id": "-JKSfhBBJw1d",
        "outputId": "9f445fa5-a46c-4c67-c190-99b455e0ee25"
      },
      "execution_count": null,
      "outputs": [
        {
          "output_type": "stream",
          "name": "stdout",
          "text": [
            "False\n",
            "False\n",
            "True\n",
            "False\n",
            "True\n",
            "False\n",
            "False\n",
            "True\n",
            "False\n",
            "10\n",
            "8\n",
            "40\n",
            "13\n",
            "169\n",
            "1\n",
            "10\n",
            "3.3333333333333335\n"
          ]
        }
      ]
    },
    {
      "cell_type": "code",
      "source": [
        " num = 9\n",
        " if num < 10 :\n",
        "  print(\"num is a greater than 9\")\n",
        "\n",
        "  user_id = \"20mca103\"\n",
        "  password = 1234\n",
        "  if user_id == \"20mca103\" and password == 1234 :\n",
        "    print(\"login successfully\")\n",
        "\n",
        "ex = 59\n",
        "if ex == 58 :\n",
        "  print(\"are you understand\")\n",
        "\n",
        "#name = \"sunny\"\n",
        "#if name <= \"bkc\"\n",
        "\n",
        "num = int(input(\"enter a number value :\"))\n",
        "if num> 0 :\n",
        "  print(\"positive number\")\n",
        "else :\n",
        "    print(\"nagative number\")\n",
        "\n",
        "    num = int(input(\"enter a number value\"))\n",
        "    if num :\n",
        "      print(\"odd number\")\n",
        "    else:\n",
        "      print(\"even number\")"
      ],
      "metadata": {
        "colab": {
          "base_uri": "https://localhost:8080/"
        },
        "id": "LMb0NpEJrgC7",
        "outputId": "1f6585e8-ee75-414d-da0d-8467b9672868"
      },
      "execution_count": null,
      "outputs": [
        {
          "output_type": "stream",
          "name": "stdout",
          "text": [
            "num is a greater than 9\n",
            "login successfully\n"
          ]
        }
      ]
    },
    {
      "cell_type": "code",
      "source": [
        "user_id =(input(\"enter user_id value\"))\n",
        "password = (input(\"enter password value\"))\n",
        "if user_id == \"college\" and password == \"1234\":\n",
        "  print(\"login successefully\")\n",
        "else :\n",
        "    print(\"invalide details\")\n",
        "\n",
        ""
      ],
      "metadata": {
        "colab": {
          "base_uri": "https://localhost:8080/"
        },
        "id": "k15JDJMn6xlz",
        "outputId": "5a40df9a-7a8d-4148-e72c-276433ccf5f3"
      },
      "execution_count": 108,
      "outputs": [
        {
          "output_type": "stream",
          "name": "stdout",
          "text": [
            "enter user_id valuecollege\n",
            "enter password value1234\n",
            "login successefully\n"
          ]
        }
      ]
    }
  ]
}