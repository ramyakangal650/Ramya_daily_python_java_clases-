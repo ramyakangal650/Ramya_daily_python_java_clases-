{
  "nbformat": 4,
  "nbformat_minor": 0,
  "metadata": {
    "colab": {
      "provenance": []
    },
    "kernelspec": {
      "name": "python3",
      "display_name": "Python 3"
    },
    "language_info": {
      "name": "python"
    }
  },
  "cells": [
    {
      "cell_type": "code",
      "execution_count": 1,
      "metadata": {
        "colab": {
          "base_uri": "https://localhost:8080/"
        },
        "id": "EDd9NCFqCLqX",
        "outputId": "1a8fccbe-874a-4e18-c80d-54ec0e0da6c6"
      },
      "outputs": [
        {
          "output_type": "stream",
          "name": "stdout",
          "text": [
            "total value is : 15\n",
            "total value is : 18\n",
            "total value is : 90\n"
          ]
        }
      ],
      "source": [
        "#1) Example sum of numbers using *args\n",
        "def add(*args):\n",
        "    total = 0\n",
        "    for num in args :\n",
        "      total += num\n",
        "    print(\"total value is :\", total)\n",
        "add(10,5)\n",
        "add(4,9,5)\n",
        "add(10,46,14,20)\n",
        "\n",
        ""
      ]
    },
    {
      "cell_type": "code",
      "source": [
        "def details(**kwargs):\n",
        "    for key, value in kwargs. items():\n",
        "      print(f'my details is {key} is {value}')\n",
        "\n",
        "details(course = \"BCA\", section = 'c', college = \"BK college\")\n",
        "details(place = \"bengalore\")\n",
        "details(roll_num = 203, T_subject = 7)\n",
        "details(Laptop = \"Asus\",O_S = \"Windows\", year = 2022,version = \"Windows\")\n"
      ],
      "metadata": {
        "colab": {
          "base_uri": "https://localhost:8080/"
        },
        "id": "ME2FAcI6L27V",
        "outputId": "a31b2fa2-8747-464f-d093-1dac830af1b5"
      },
      "execution_count": 16,
      "outputs": [
        {
          "output_type": "stream",
          "name": "stdout",
          "text": [
            "my details is course is BCA\n",
            "my details is section is c\n",
            "my details is college is BK college\n",
            "my details is place is bengalore\n",
            "my details is roll_num is 203\n",
            "my details is T_subject is 7\n",
            "my details is Laptop is Asus\n",
            "my details is O_S is Windows\n",
            "my details is year is 2022\n",
            "my details is version is Windows\n"
          ]
        }
      ]
    },
    {
      "cell_type": "code",
      "source": [
        "# Example of *args and **kwargs\n",
        "def show_value(*args, **kwargs):\n",
        "  print(\"positional Arguments represented in Tuple\", args)\n",
        "  print(\"key - words Arguments represented in Dict\", kwargs)\n",
        "show_value(1,2,3,4,name = \"sunny\")\n",
        "\n",
        "show_value(5,8,1,10,Class = \"BCA C section\",gender = \"male\")"
      ],
      "metadata": {
        "colab": {
          "base_uri": "https://localhost:8080/"
        },
        "id": "aHiZHifZCaTh",
        "outputId": "0fb6c732-0b0d-4a83-d14f-3a65f9a42d66"
      },
      "execution_count": 15,
      "outputs": [
        {
          "output_type": "stream",
          "name": "stdout",
          "text": [
            "positional Arguments represented in Tuple (1, 2, 3, 4)\n",
            "key - words Arguments represented in Dict {'name': 'sunny'}\n",
            "positional Arguments represented in Tuple (5, 8, 1, 10)\n",
            "key - words Arguments represented in Dict {'Class': 'BCA C section', 'gender': 'male'}\n"
          ]
        }
      ]
    },
    {
      "cell_type": "code",
      "source": [
        "fact = 1\n",
        "for i in range (1,6):\n",
        " fact = fact * i\n",
        " print(fact)\n",
        ""
      ],
      "metadata": {
        "colab": {
          "base_uri": "https://localhost:8080/"
        },
        "id": "cngWnt0iCaYv",
        "outputId": "8feda878-c344-482a-8ca9-53de0b7b93b2"
      },
      "execution_count": 23,
      "outputs": [
        {
          "output_type": "stream",
          "name": "stdout",
          "text": [
            "1\n",
            "2\n",
            "6\n",
            "24\n",
            "120\n"
          ]
        }
      ]
    },
    {
      "cell_type": "code",
      "source": [
        "def fact(num):\n",
        "  if num==0 or num==1:\n",
        "    return 1\n",
        "  else:\n",
        "   return num*fact(num-1)\n",
        "print(fact(5))\n"
      ],
      "metadata": {
        "colab": {
          "base_uri": "https://localhost:8080/"
        },
        "id": "E-FYGuTnVohY",
        "outputId": "e9e83b0f-cc1b-4676-ff65-14f085ec4a06"
      },
      "execution_count": 46,
      "outputs": [
        {
          "output_type": "stream",
          "name": "stdout",
          "text": [
            "120\n"
          ]
        }
      ]
    },
    {
      "cell_type": "code",
      "source": [
        "fact = 1\n",
        "for i in range (1,50):\n",
        " fact = fact * i\n",
        " print(fact)"
      ],
      "metadata": {
        "colab": {
          "base_uri": "https://localhost:8080/"
        },
        "id": "Q08q7oITCaci",
        "outputId": "92a5f27d-6d79-4087-c945-5cb854d3604b"
      },
      "execution_count": 49,
      "outputs": [
        {
          "output_type": "stream",
          "name": "stdout",
          "text": [
            "1\n",
            "2\n",
            "6\n",
            "24\n",
            "120\n",
            "720\n",
            "5040\n",
            "40320\n",
            "362880\n",
            "3628800\n",
            "39916800\n",
            "479001600\n",
            "6227020800\n",
            "87178291200\n",
            "1307674368000\n",
            "20922789888000\n",
            "355687428096000\n",
            "6402373705728000\n",
            "121645100408832000\n",
            "2432902008176640000\n",
            "51090942171709440000\n",
            "1124000727777607680000\n",
            "25852016738884976640000\n",
            "620448401733239439360000\n",
            "15511210043330985984000000\n",
            "403291461126605635584000000\n",
            "10888869450418352160768000000\n",
            "304888344611713860501504000000\n",
            "8841761993739701954543616000000\n",
            "265252859812191058636308480000000\n",
            "8222838654177922817725562880000000\n",
            "263130836933693530167218012160000000\n",
            "8683317618811886495518194401280000000\n",
            "295232799039604140847618609643520000000\n",
            "10333147966386144929666651337523200000000\n",
            "371993326789901217467999448150835200000000\n",
            "13763753091226345046315979581580902400000000\n",
            "523022617466601111760007224100074291200000000\n",
            "20397882081197443358640281739902897356800000000\n",
            "815915283247897734345611269596115894272000000000\n",
            "33452526613163807108170062053440751665152000000000\n",
            "1405006117752879898543142606244511569936384000000000\n",
            "60415263063373835637355132068513997507264512000000000\n",
            "2658271574788448768043625811014615890319638528000000000\n",
            "119622220865480194561963161495657715064383733760000000000\n",
            "5502622159812088949850305428800254892961651752960000000000\n",
            "258623241511168180642964355153611979969197632389120000000000\n",
            "12413915592536072670862289047373375038521486354677760000000000\n",
            "608281864034267560872252163321295376887552831379210240000000000\n"
          ]
        }
      ]
    },
    {
      "cell_type": "code",
      "source": [
        "# sum of N natural numbers\n",
        "def sum(num):\n",
        " if num==0:\n",
        "     return num\n",
        " else:\n",
        "     return num + sum(num - 1)\n",
        "print(\"sum of N natural number is :\", sum(10))"
      ],
      "metadata": {
        "colab": {
          "base_uri": "https://localhost:8080/"
        },
        "id": "NL5CohDmCahh",
        "outputId": "4d3c885d-f933-4c9a-c838-84f63e3711fc"
      },
      "execution_count": 50,
      "outputs": [
        {
          "output_type": "stream",
          "name": "stdout",
          "text": [
            "sum of N natural number is : 55\n"
          ]
        }
      ]
    },
    {
      "cell_type": "code",
      "source": [
        "# Fibonacci series/ number using function recuesion\n",
        "def fibo(num):\n",
        "    if num <= 1:\n",
        "        return num\n",
        "    else:\n",
        "       return fibo(num-1) + fibo(num-2)\n",
        "for i in range(11):\n",
        "  print(fibo(i), end= \" \")"
      ],
      "metadata": {
        "colab": {
          "base_uri": "https://localhost:8080/"
        },
        "id": "qh3Po-7wbmXY",
        "outputId": "30e2ba49-fd97-4e40-f9b7-54e4c891dffe"
      },
      "execution_count": 6,
      "outputs": [
        {
          "output_type": "stream",
          "name": "stdout",
          "text": [
            "0 1 1 2 3 5 8 13 21 34 55 "
          ]
        }
      ]
    },
    {
      "cell_type": "code",
      "source": [
        "my_name = \"vasu\"\n",
        "print(my_name[:4])"
      ],
      "metadata": {
        "colab": {
          "base_uri": "https://localhost:8080/"
        },
        "id": "hIGwZTcmf83h",
        "outputId": "a9700f30-5e52-44a1-fe9f-5404220e3a3c"
      },
      "execution_count": 15,
      "outputs": [
        {
          "output_type": "stream",
          "name": "stdout",
          "text": [
            "vasu\n"
          ]
        }
      ]
    },
    {
      "cell_type": "code",
      "source": [
        "class Fruit:\n",
        "  colour = \"orange\"\n",
        "  price = 250\n",
        "  test = \"sweet\"\n",
        "  shape = \"circle\"\n",
        "def juice(self):\n",
        "  print(\"very nice\")\n",
        "orange = Fruit()\n",
        "print(\"orange colour is\",orange.colour)\n",
        "\n",
        "\n"
      ],
      "metadata": {
        "colab": {
          "base_uri": "https://localhost:8080/"
        },
        "id": "23t7OrsPkpXZ",
        "outputId": "d54796bf-ce1f-4f94-e959-80c9a85f4718"
      },
      "execution_count": 21,
      "outputs": [
        {
          "output_type": "stream",
          "name": "stdout",
          "text": [
            "orange colour is orange\n"
          ]
        }
      ]
    },
    {
      "cell_type": "code",
      "source": [
        "class Fruit:\n",
        "  colour = \"orange\"\n",
        "  price = 250\n",
        "  test = \"sweet\"\n",
        "  shape = \"circle\"\n",
        "def juice(self):\n",
        "  print(\"very nice\")\n",
        "orange = Fruit()\n",
        "print(\"orange price is\",orange.price)\n"
      ],
      "metadata": {
        "colab": {
          "base_uri": "https://localhost:8080/"
        },
        "id": "ok4RAbfbm806",
        "outputId": "e4d0a387-fd6b-49c2-f846-940ffc4112b3"
      },
      "execution_count": 22,
      "outputs": [
        {
          "output_type": "stream",
          "name": "stdout",
          "text": [
            "orange price is 250\n"
          ]
        }
      ]
    },
    {
      "cell_type": "code",
      "source": [
        "class Flower:\n",
        "  smell = \"very nice\"\n",
        "  petal = \"5\"\n",
        "  size = \"medium\"\n",
        "  gender = \"female\"\n",
        "  validity = 1.5\n",
        "  def decoration(self):\n",
        "    print(\"beautiful\")\n",
        "  def gift(self):\n",
        "    print(\"gm\")\n",
        "  def marriage(self):\n",
        "    print(\"marriage\")\n",
        "  def death(self):\n",
        "    print(\"this flower use for death\")\n",
        "\n",
        "Object = Flower()\n",
        "Object.marriage()\n",
        "print(Object.gender)\n",
        "Object.decoration()\n",
        "Object.gift()\n",
        "print(Object.size)\n",
        "print(Object.petal)\n",
        "print(Object.smell)\n",
        "print(Object.validity)\n",
        "Object.death()\n"
      ],
      "metadata": {
        "colab": {
          "base_uri": "https://localhost:8080/"
        },
        "id": "b_aQkeaeuKRW",
        "outputId": "ff717ca3-6c10-480f-d246-670be029fbcd"
      },
      "execution_count": 38,
      "outputs": [
        {
          "output_type": "stream",
          "name": "stdout",
          "text": [
            "marriage\n",
            "female\n",
            "beautiful\n",
            "gm\n",
            "medium\n",
            "5\n",
            "very nice\n",
            "1.5\n",
            "this flower use for death\n"
          ]
        }
      ]
    },
    {
      "cell_type": "code",
      "source": [
        "class Fan :\n",
        "  colour = \"black\"\n",
        "  c_name = \"Bajaj\"\n",
        "  price = 1500\n",
        "  warrenty = \"2 years\"\n",
        "  def start(self):\n",
        "    print(\"when click on button it'll start\")\n",
        "  def speed(self):\n",
        "    print(\"Based on condition it'll move fast\")\n",
        "  def stop(self):\n",
        "    print(\"when click on off button it'll stop\")\n",
        "Obj = Fan()\n",
        "print(Obj.c_name+ \" \"+ Obj.warrenty)\n",
        "Obj.start()\n",
        "Obj.stop()\n",
        "Obj.speed()\n",
        "print(Obj.price)\n",
        "print(Obj.c_name)\n",
        "print(Obj.colour)\n",
        "print(Obj.warrenty)\n",
        ""
      ],
      "metadata": {
        "colab": {
          "base_uri": "https://localhost:8080/"
        },
        "id": "T83xw3vUyCgI",
        "outputId": "7504db9b-f21e-488c-bd28-54cd38e6b6e5"
      },
      "execution_count": 49,
      "outputs": [
        {
          "output_type": "stream",
          "name": "stdout",
          "text": [
            "Bajaj 2 years\n",
            "when click on button it'll start\n",
            "when click on off button it'll stop\n",
            "Based on condition it'll move fast\n",
            "1500\n",
            "Bajaj\n",
            "black\n",
            "2 years\n"
          ]
        }
      ]
    },
    {
      "cell_type": "code",
      "source": [
        "def fun(name):\n",
        "  print(\"my name is a\", name)\n",
        "fun(\"charlee\")"
      ],
      "metadata": {
        "colab": {
          "base_uri": "https://localhost:8080/"
        },
        "id": "u-5GuF8UyCcm",
        "outputId": "a697f768-9fc9-4738-cf96-5df2ebd830f9"
      },
      "execution_count": 51,
      "outputs": [
        {
          "output_type": "stream",
          "name": "stdout",
          "text": [
            "my name is a charlee\n"
          ]
        }
      ]
    },
    {
      "cell_type": "code",
      "source": [
        "# Banking Example\n",
        "class Bank :\n",
        "  def __init__(self,balence):\n",
        "    self.balence = balence\n",
        "  def Deposit(self, amount):\n",
        "    self.balence += amount\n",
        "  def withdrow(self,amount):\n",
        "      if amount <= self.balence:\n",
        "         self.balence -= amount\n",
        "         print(\"Transaction successfully\",amount)\n",
        "      else:\n",
        "         print(\"Insufficient balence\")\n",
        "  def re_balence(self):\n",
        "    return self.balence\n",
        "obj = Bank(1000)\n",
        "print(obj.balence)\n",
        "obj.Deposit(500)\n",
        "print(obj.balence)\n",
        "obj.withdrow(700)\n",
        "print(obj.re_balence())\n",
        "obj.Deposit(1000)\n",
        "print(\"Current total balence is\",obj.balence)\n",
        "obj.withdrow(2000)\n",
        "obj.withdrow(300)\n",
        "print(obj.re_balence())"
      ],
      "metadata": {
        "colab": {
          "base_uri": "https://localhost:8080/"
        },
        "id": "GnFDDrwgCzDq",
        "outputId": "6531baae-c313-41b4-fc37-5b4362ba3035"
      },
      "execution_count": 75,
      "outputs": [
        {
          "output_type": "stream",
          "name": "stdout",
          "text": [
            "1000\n",
            "1500\n",
            "Transaction successfully 700\n",
            "800\n",
            "Current total balence is 1800\n",
            "Insufficient balence\n",
            "Transaction successfully 300\n",
            "1500\n"
          ]
        }
      ]
    },
    {
      "cell_type": "code",
      "source": [
        "# Encapsulation Example\n",
        "class Students :\n",
        "  def __init__(self,name,marks,place):\n",
        "      self.__name = name      #Private variable\n",
        "      self.__marks = marks    #Private variable\n",
        "      #self.place = place      #Public variable\n",
        "  def set_method(self,name,marks):\n",
        "\n",
        "      self.name = name\n",
        "      self.marks = marks\n",
        "  def get_method(self):\n",
        "      return self.name + \" \" +str(self.marks)\n",
        "\n",
        "obj = Students(\"Basavaraj\",85,\"Raichur\")\n",
        "obj.set_method(\"Sharath\",69)\n",
        "print(obj.get_method())"
      ],
      "metadata": {
        "colab": {
          "base_uri": "https://localhost:8080/"
        },
        "id": "0YrGOcGbCzaK",
        "outputId": "6f5fa7c9-895c-4632-d4c3-859f6a49e9cf"
      },
      "execution_count": 93,
      "outputs": [
        {
          "output_type": "stream",
          "name": "stdout",
          "text": [
            "Sharath 69\n"
          ]
        }
      ]
    },
    {
      "cell_type": "code",
      "source": [
        "class Students :\n",
        "  def __init__(self,name,marks):\n",
        "      self.__name = name\n",
        "      self.__marks = marks\n",
        "  def set(self,name,marks):\n",
        "      self.name = name\n",
        "      self.marks = marks\n",
        "  def get(self):\n",
        "      return self.name + \" \" +str(self.marks)\n",
        "obj = Students(\"Basavaraj\",89)\n",
        "obj.set(\"Sharath\",89)\n",
        "print(obj.get())"
      ],
      "metadata": {
        "colab": {
          "base_uri": "https://localhost:8080/"
        },
        "id": "0WqPYVV6CzjN",
        "outputId": "fc690ce3-8baf-44c9-dba9-3f8bcde52f44"
      },
      "execution_count": 8,
      "outputs": [
        {
          "output_type": "stream",
          "name": "stdout",
          "text": [
            "Sharath 89\n"
          ]
        }
      ]
    },
    {
      "cell_type": "code",
      "source": [
        "#1) singal inheritance\n",
        "class parent :\n",
        "    def Work(self):\n",
        "      print(\"my parents are doing farming\")\n",
        "class children(parent):\n",
        "    def studty(self):\n",
        "        print(\"I'm studying BCA IN BK College\")\n",
        "ch = children()\n",
        "ch.Work()"
      ],
      "metadata": {
        "colab": {
          "base_uri": "https://localhost:8080/"
        },
        "id": "1p6czf6ACzu3",
        "outputId": "6090ee1d-b121-4b15-9375-e781eaee5815"
      },
      "execution_count": 17,
      "outputs": [
        {
          "output_type": "stream",
          "name": "stdout",
          "text": [
            "my parents are doing farming\n"
          ]
        }
      ]
    },
    {
      "cell_type": "code",
      "source": [
        "#multiple inheritance\n",
        "class father:\n",
        "  def Hi(self):\n",
        "    print(\"my father is my first hero\")\n",
        "\n",
        "class mother:\n",
        "  def Hello(self):\n",
        "    print(\"my mother is my queen\")\n",
        "\n",
        "class child(father, mother):\n",
        "  def Bye(self):\n",
        "    print(\" I'm dancer\")\n",
        "\n",
        "Obj = child()\n",
        "Obj.Hi()\n",
        "Obj.Hello()\n",
        "Obj.Bye()"
      ],
      "metadata": {
        "colab": {
          "base_uri": "https://localhost:8080/"
        },
        "id": "r8IluJLvdpfs",
        "outputId": "f8a1ef5f-d882-43ba-f22d-df48352d0117"
      },
      "execution_count": 21,
      "outputs": [
        {
          "output_type": "stream",
          "name": "stdout",
          "text": [
            "my father is my first hero\n",
            "my mother is my quuen\n",
            " I'm dancer\n"
          ]
        }
      ]
    },
    {
      "cell_type": "code",
      "source": [
        "# multi level inheritance\n",
        "class Grand_parents:\n",
        "    def formar(self):\n",
        "       print(\"Be Always Happy\")\n",
        "\n",
        "class parents (Grand_parents):\n",
        "  def House(self):\n",
        "     print(\"smile smile smile\")\n",
        "\n",
        "class child (parents):\n",
        "  def Jolly(self):\n",
        "     print(\"HOUSEFULL5\")\n",
        "\n",
        "Obj = child()\n",
        "Obj.House()\n",
        "Obj.Jolly()\n",
        "Obj.formar()\n"
      ],
      "metadata": {
        "colab": {
          "base_uri": "https://localhost:8080/"
        },
        "id": "n9lYQT4pCz0q",
        "outputId": "30067aee-68bd-4179-ce2b-3ea431523f50"
      },
      "execution_count": 27,
      "outputs": [
        {
          "output_type": "stream",
          "name": "stdout",
          "text": [
            "smile smile smile\n",
            "HOUSEFULL5\n",
            "Be Always Happy\n"
          ]
        }
      ]
    },
    {
      "cell_type": "code",
      "source": [
        "# hirarchy inheretance\n",
        "class parents:\n",
        "  def Dancer(self):\n",
        "    print(\"my parents are good dancer\")\n",
        "\n",
        "class child1(parents):\n",
        "  def study(self):\n",
        "    print(\"I'm studying BCA\")\n",
        "\n",
        "class child2(parents):\n",
        "  def dance(self):\n",
        "    print(\"I'm learning dance\")\n",
        "\n",
        "obj1 = child1()\n",
        "obj2 = child2()\n",
        "\n",
        "obj1.Dancer()\n",
        "obj1.study()\n",
        "\n",
        "obj2.Dancer()\n",
        "obj2.dance()"
      ],
      "metadata": {
        "colab": {
          "base_uri": "https://localhost:8080/"
        },
        "id": "D1gM9-FdfRPa",
        "outputId": "873a5c26-08fd-4ff8-b1bc-56fcd29b246c"
      },
      "execution_count": 33,
      "outputs": [
        {
          "output_type": "stream",
          "name": "stdout",
          "text": [
            "my parents are good dancer\n",
            "I'm studying BCA\n",
            "my parents are good dancer\n",
            "I'm learning dance\n"
          ]
        }
      ]
    },
    {
      "cell_type": "code",
      "source": [
        "#hybrid inheritance\n",
        "\n",
        "class A:\n",
        "  def singer(self):\n",
        "    print(\"good singers\")\n",
        "\n",
        "class B(A):\n",
        "  def study(self):\n",
        "    print(\"Good Listeners\")\n",
        "\n",
        "class C(A):\n",
        "  def dance(self):\n",
        "    print(\"Good dancees\")\n",
        "\n",
        "class D(B,C):\n",
        "  def Good(self):\n",
        "    print(\"Very Nice Students\")\n",
        "\n",
        "Obj = D()\n",
        "Obj.singer\n",
        "Obj.study\n",
        "Obj.dance"
      ],
      "metadata": {
        "colab": {
          "base_uri": "https://localhost:8080/",
          "height": 103
        },
        "id": "sQ4HOv0qkBHO",
        "outputId": "7bbdb692-b34e-4fea-c435-4824fae589b5"
      },
      "execution_count": 35,
      "outputs": [
        {
          "output_type": "execute_result",
          "data": {
            "text/plain": [
              "<bound method C.dance of <__main__.D object at 0x7ea751bfb740>>"
            ],
            "text/html": [
              "<div style=\"max-width:800px; border: 1px solid var(--colab-border-color);\"><style>\n",
              "      pre.function-repr-contents {\n",
              "        overflow-x: auto;\n",
              "        padding: 8px 12px;\n",
              "        max-height: 500px;\n",
              "      }\n",
              "\n",
              "      pre.function-repr-contents.function-repr-contents-collapsed {\n",
              "        cursor: pointer;\n",
              "        max-height: 100px;\n",
              "      }\n",
              "    </style>\n",
              "    <pre style=\"white-space: initial; background:\n",
              "         var(--colab-secondary-surface-color); padding: 8px 12px;\n",
              "         border-bottom: 1px solid var(--colab-border-color);\"><b>C.dance</b><br/>def dance()</pre><pre class=\"function-repr-contents function-repr-contents-collapsed\" style=\"\"><a class=\"filepath\" style=\"display:none\" href=\"#\">/tmp/ipython-input-24411799.py</a>&lt;no docstring&gt;</pre></div>"
            ]
          },
          "metadata": {},
          "execution_count": 35
        }
      ]
    }
  ]
}