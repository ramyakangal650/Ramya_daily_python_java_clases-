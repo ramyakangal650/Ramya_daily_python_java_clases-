{
  "nbformat": 4,
  "nbformat_minor": 0,
  "metadata": {
    "colab": {
      "provenance": []
    },
    "kernelspec": {
      "name": "python3",
      "display_name": "Python 3"
    },
    "language_info": {
      "name": "python"
    }
  },
  "cells": [
    {
      "cell_type": "code",
      "execution_count": 36,
      "metadata": {
        "colab": {
          "base_uri": "https://localhost:8080/"
        },
        "id": "63sbswz6-FtF",
        "outputId": "ddaa4a86-8b4a-4ec7-dd20-9780337807af"
      },
      "outputs": [
        {
          "output_type": "stream",
          "name": "stdout",
          "text": [
            "  D D D D D D D D D D \n",
            "    D D D D D D D D D D \n",
            "      D D D D D D D D D D \n",
            "        D D D D D D D D D D \n",
            "          D D D D D D D D D D \n",
            "            D D D D D D D D D D \n",
            "              D D D D D D D D D D \n",
            "                D D D D D D D D D D \n",
            "                  D D D D D D D D D D \n",
            "                    D D D D D D D D D D \n"
          ]
        }
      ],
      "source": [
        "for i in range(10):\n",
        "  for j in range(0,i+1):\n",
        "    print(\" \",end=\" \")\n",
        "  for j in range(10):\n",
        "    print(\"D\",end=\" \")\n",
        "  print()"
      ]
    },
    {
      "cell_type": "code",
      "source": [
        "for i in range(8):\n",
        "  for j in range(0,i+1):\n",
        "    print(\" \",end=\" \")\n",
        "  for j in range(8):\n",
        "    print(\"R\",end=\" \")\n",
        "  print()"
      ],
      "metadata": {
        "colab": {
          "base_uri": "https://localhost:8080/"
        },
        "id": "4QenYx27-6Vd",
        "outputId": "efa1efca-908e-48a4-b13e-714a136687eb"
      },
      "execution_count": 37,
      "outputs": [
        {
          "output_type": "stream",
          "name": "stdout",
          "text": [
            "  R R R R R R R R \n",
            "    R R R R R R R R \n",
            "      R R R R R R R R \n",
            "        R R R R R R R R \n",
            "          R R R R R R R R \n",
            "            R R R R R R R R \n",
            "              R R R R R R R R \n",
            "                R R R R R R R R \n"
          ]
        }
      ]
    },
    {
      "cell_type": "code",
      "source": [
        "for i in range(5):\n",
        "  for j in range(0,i+1):\n",
        "    print(\" \",end=\" \")\n",
        "  for j in range(5):\n",
        "    print(\"S\",end=\" \")\n",
        "  print()"
      ],
      "metadata": {
        "colab": {
          "base_uri": "https://localhost:8080/"
        },
        "id": "aPfmPMT5-6Yj",
        "outputId": "fe89a7c0-fbdf-4f32-c962-0b68a74b9450"
      },
      "execution_count": 38,
      "outputs": [
        {
          "output_type": "stream",
          "name": "stdout",
          "text": [
            "  S S S S S \n",
            "    S S S S S \n",
            "      S S S S S \n",
            "        S S S S S \n",
            "          S S S S S \n"
          ]
        }
      ]
    },
    {
      "cell_type": "code",
      "source": [
        "for i in range(10):\n",
        "  for j in range(i+1,10):\n",
        "    print(\" \",end=\" \")\n",
        "  for j in range(10):\n",
        "    print(\"RDS\",end=\" \")\n",
        "  print()"
      ],
      "metadata": {
        "colab": {
          "base_uri": "https://localhost:8080/"
        },
        "id": "7KNAFD3g_GrJ",
        "outputId": "500f048d-6083-4a39-af90-d4e17199b2b9"
      },
      "execution_count": 39,
      "outputs": [
        {
          "output_type": "stream",
          "name": "stdout",
          "text": [
            "                  RDS RDS RDS RDS RDS RDS RDS RDS RDS RDS \n",
            "                RDS RDS RDS RDS RDS RDS RDS RDS RDS RDS \n",
            "              RDS RDS RDS RDS RDS RDS RDS RDS RDS RDS \n",
            "            RDS RDS RDS RDS RDS RDS RDS RDS RDS RDS \n",
            "          RDS RDS RDS RDS RDS RDS RDS RDS RDS RDS \n",
            "        RDS RDS RDS RDS RDS RDS RDS RDS RDS RDS \n",
            "      RDS RDS RDS RDS RDS RDS RDS RDS RDS RDS \n",
            "    RDS RDS RDS RDS RDS RDS RDS RDS RDS RDS \n",
            "  RDS RDS RDS RDS RDS RDS RDS RDS RDS RDS \n",
            "RDS RDS RDS RDS RDS RDS RDS RDS RDS RDS \n"
          ]
        }
      ]
    },
    {
      "cell_type": "code",
      "source": [
        "row = 5\n",
        "col = 5\n",
        "for i in range(0,row):\n",
        "    for j in range(0,col):\n",
        "        if i == 0 or j == 0 or i == row-1 or j == col-1 :\n",
        "            print(\"*\",end=\" \")\n",
        "        else:\n",
        "            print(\" \",end=\" \")\n",
        "    print()"
      ],
      "metadata": {
        "colab": {
          "base_uri": "https://localhost:8080/"
        },
        "id": "9PJeZe8f_GvD",
        "outputId": "f3faf139-dd42-4b1d-b391-32da3a893dea"
      },
      "execution_count": 55,
      "outputs": [
        {
          "output_type": "stream",
          "name": "stdout",
          "text": [
            "* * * * * \n",
            "*       * \n",
            "*       * \n",
            "*       * \n",
            "* * * * * \n"
          ]
        }
      ]
    },
    {
      "cell_type": "code",
      "source": [
        "num = 7\n",
        "for i in range(0,num):\n",
        "  for j in range(0,num-i-1):\n",
        "    print(\" \",end=\" \")\n",
        "  for j in range(0,i*2+1):\n",
        "    print(\"*\",end=\" \")\n",
        "  print()"
      ],
      "metadata": {
        "colab": {
          "base_uri": "https://localhost:8080/"
        },
        "id": "gmB5qSPD_GzS",
        "outputId": "6d69e122-c421-4d45-df64-a0e561606668"
      },
      "execution_count": 56,
      "outputs": [
        {
          "output_type": "stream",
          "name": "stdout",
          "text": [
            "            * \n",
            "          * * * \n",
            "        * * * * * \n",
            "      * * * * * * * \n",
            "    * * * * * * * * * \n",
            "  * * * * * * * * * * * \n",
            "* * * * * * * * * * * * * \n"
          ]
        }
      ]
    },
    {
      "cell_type": "code",
      "source": [
        "num = 7\n",
        "for i in range(0,num):\n",
        "  for j in range(0,num-i-1):\n",
        "    print(\" \",end=\" \")\n",
        "  for j in range(0,i*2+1):\n",
        "    print(chr(65 +j),end=\" \")\n",
        "  print()"
      ],
      "metadata": {
        "colab": {
          "base_uri": "https://localhost:8080/"
        },
        "id": "OHqEVyJIJKbd",
        "outputId": "539b754f-28de-4f2b-de6f-d8f30e8f49b3"
      },
      "execution_count": 58,
      "outputs": [
        {
          "output_type": "stream",
          "name": "stdout",
          "text": [
            "            A \n",
            "          A B C \n",
            "        A B C D E \n",
            "      A B C D E F G \n",
            "    A B C D E F G H I \n",
            "  A B C D E F G H I J K \n",
            "A B C D E F G H I J K L M \n"
          ]
        }
      ]
    },
    {
      "cell_type": "code",
      "source": [
        "num = 7\n",
        "for i in range(0,num):\n",
        "  for j in range(0,num-i-1):\n",
        "    print(\" \",end=\" \")\n",
        "  for j in range(0,i*2+1):\n",
        "    print(chr(97 +j),end=\" \")\n",
        "  print()"
      ],
      "metadata": {
        "colab": {
          "base_uri": "https://localhost:8080/"
        },
        "id": "nZ4uRsqeJKg0",
        "outputId": "853959ee-19ca-496a-ec5a-6c7ab3a83d1a"
      },
      "execution_count": 59,
      "outputs": [
        {
          "output_type": "stream",
          "name": "stdout",
          "text": [
            "            a \n",
            "          a b c \n",
            "        a b c d e \n",
            "      a b c d e f g \n",
            "    a b c d e f g h i \n",
            "  a b c d e f g h i j k \n",
            "a b c d e f g h i j k l m \n"
          ]
        }
      ]
    },
    {
      "cell_type": "code",
      "source": [
        "num = 7\n",
        "for i in range(0,num):\n",
        "  for j in range(0,num-i-1):\n",
        "      print(\" \",end=\" \")\n",
        "  for j in range(0,i*2+1):\n",
        "      print(\"*\",end=\" \")\n",
        "  print()\n",
        "for i in range(0,num):\n",
        "  for j in range(0,i):\n",
        "      print(\" \",end=\" \")\n",
        "  for j in range(0,(num-i)*2-1):\n",
        "      print(\"*\",end=\" \")\n",
        "  print()"
      ],
      "metadata": {
        "colab": {
          "base_uri": "https://localhost:8080/"
        },
        "id": "hod6LoqWJKi2",
        "outputId": "33315bc8-9639-46a2-f66d-4ef885d854fc"
      },
      "execution_count": 65,
      "outputs": [
        {
          "output_type": "stream",
          "name": "stdout",
          "text": [
            "            * \n",
            "          * * * \n",
            "        * * * * * \n",
            "      * * * * * * * \n",
            "    * * * * * * * * * \n",
            "  * * * * * * * * * * * \n",
            "* * * * * * * * * * * * * \n",
            "* * * * * * * * * * * * * \n",
            "  * * * * * * * * * * * \n",
            "    * * * * * * * * * \n",
            "      * * * * * * * \n",
            "        * * * * * \n",
            "          * * * \n",
            "            * \n"
          ]
        }
      ]
    },
    {
      "cell_type": "code",
      "source": [
        "def Example():\n",
        "  print(\"Good Afternoon\")\n",
        "\n",
        "Example()\n",
        ""
      ],
      "metadata": {
        "colab": {
          "base_uri": "https://localhost:8080/"
        },
        "id": "8RgRxpYOM7dl",
        "outputId": "5b989664-1a35-4ac9-b144-96fcb9f65994"
      },
      "execution_count": 67,
      "outputs": [
        {
          "output_type": "stream",
          "name": "stdout",
          "text": [
            "Good Afternoon\n"
          ]
        }
      ]
    },
    {
      "cell_type": "code",
      "source": [
        "def fun(num):\n",
        "  return num*num\n",
        "\n",
        "fun(4)"
      ],
      "metadata": {
        "colab": {
          "base_uri": "https://localhost:8080/"
        },
        "id": "5a1iEfmzM7g1",
        "outputId": "2823dce6-70a3-4629-f31c-e837ed51b006"
      },
      "execution_count": 68,
      "outputs": [
        {
          "output_type": "execute_result",
          "data": {
            "text/plain": [
              "16"
            ]
          },
          "metadata": {},
          "execution_count": 68
        }
      ]
    },
    {
      "cell_type": "code",
      "source": [
        "def add(a,b):\n",
        "  print(f'Addition of two numbers is {a+b}')\n",
        "add(5,10)"
      ],
      "metadata": {
        "colab": {
          "base_uri": "https://localhost:8080/"
        },
        "id": "iw58qsBbM7mM",
        "outputId": "4d91c992-a468-430e-c95b-dac61cf719a7"
      },
      "execution_count": 71,
      "outputs": [
        {
          "output_type": "stream",
          "name": "stdout",
          "text": [
            "Addition of two numbers is 15\n"
          ]
        }
      ]
    },
    {
      "cell_type": "code",
      "source": [
        "items = [\"milk\", \"Bread\", \"Eggs\"]\n",
        "print(\"-\".join(items))"
      ],
      "metadata": {
        "colab": {
          "base_uri": "https://localhost:8080/"
        },
        "id": "czBCe4dRM7p5",
        "outputId": "6cf22976-93f8-4bb3-f16e-8fd7c34bc398"
      },
      "execution_count": 74,
      "outputs": [
        {
          "output_type": "stream",
          "name": "stdout",
          "text": [
            "milk-Bread-Eggs\n"
          ]
        }
      ]
    },
    {
      "cell_type": "code",
      "source": [
        "def Example(roll_number,name,section,department,college):\n",
        "    print(f\"My name is {name},i'm studing {department} in {college} college.My roll_number is {roll_number} and section is {section}\")\n",
        "Example(101,\"Dnyanu\",'A',\"BCA\",\"KLE\")"
      ],
      "metadata": {
        "colab": {
          "base_uri": "https://localhost:8080/"
        },
        "id": "MKFGomnKUogH",
        "outputId": "d23b9b35-1306-452e-b5b1-67ea133b69bb"
      },
      "execution_count": 89,
      "outputs": [
        {
          "output_type": "stream",
          "name": "stdout",
          "text": [
            "My name is Dnyanu,i'm studing BCA in KLE college.My roll_number is 101 and section is A\n"
          ]
        }
      ]
    },
    {
      "cell_type": "code",
      "source": [
        "def fun(name,game,time):\n",
        "  print(f\"I'm {name}; i'm playing {game} at {time} time\")\n",
        "fun(time = \"Evening\",name = \"Dnyanu\",game = \"Cricket\")"
      ],
      "metadata": {
        "colab": {
          "base_uri": "https://localhost:8080/"
        },
        "id": "kRImgizZUoJl",
        "outputId": "c3088b74-46c0-4849-84ca-9c033bbc8374"
      },
      "execution_count": 92,
      "outputs": [
        {
          "output_type": "stream",
          "name": "stdout",
          "text": [
            "I'm Dnyanu; i'm playing Cricket at Evening time\n"
          ]
        }
      ]
    },
    {
      "cell_type": "code",
      "source": [
        "def Laptop(name = \"Lenovo\"):\n",
        "  print(f\"My laptop name is :\",name)\n",
        "Laptop(\"Dell\")\n",
        "Laptop(\"HP\")\n",
        "Laptop()\n",
        "Laptop(\"Asus\")"
      ],
      "metadata": {
        "colab": {
          "base_uri": "https://localhost:8080/"
        },
        "id": "qBjLKPmxcmQA",
        "outputId": "90f8a065-2ba8-447f-ded6-ad23fe8c7e14"
      },
      "execution_count": 93,
      "outputs": [
        {
          "output_type": "stream",
          "name": "stdout",
          "text": [
            "My laptop name is : Dell\n",
            "My laptop name is : HP\n",
            "My laptop name is : Lenovo\n",
            "My laptop name is : Asus\n"
          ]
        }
      ]
    }
  ]
}