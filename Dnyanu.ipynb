{
  "nbformat": 4,
  "nbformat_minor": 0,
  "metadata": {
    "colab": {
      "provenance": []
    },
    "kernelspec": {
      "name": "python3",
      "display_name": "Python 3"
    },
    "language_info": {
      "name": "python"
    }
  },
  "cells": [
    {
      "cell_type": "code",
      "execution_count": null,
      "metadata": {
        "colab": {
          "base_uri": "https://localhost:8080/"
        },
        "id": "pN2CiMmboMe7",
        "outputId": "32103e0b-5a0b-4688-f093-67146170fae3"
      },
      "outputs": [
        {
          "output_type": "stream",
          "name": "stdout",
          "text": [
            "Good Morning 18\n"
          ]
        }
      ],
      "source": [
        "a,b,c = \"Good\",\"Morning\",18\n",
        "print(a,b,c)"
      ]
    },
    {
      "cell_type": "code",
      "source": [
        "Name, College,Degree, Roll = \"Sharath\", \"BK\", \"BCA\", 101\n",
        "print(\"Hi, Good Morning, I'm\", Name,\"i'm studing\", Degree,\"in\",College,\"College at chikodi\",\"my roll number is\",Roll)"
      ],
      "metadata": {
        "colab": {
          "base_uri": "https://localhost:8080/"
        },
        "id": "JL_x-wDLpbfv",
        "outputId": "57b00353-3f0f-496b-a814-a5aee60fee04"
      },
      "execution_count": null,
      "outputs": [
        {
          "output_type": "stream",
          "name": "stdout",
          "text": [
            "Hi, Good Morning, I'm Sharath i'm studing BCA in BK College at chikodi my roll number is 101\n"
          ]
        }
      ]
    },
    {
      "cell_type": "code",
      "source": [
        "x = y = z = 1001\n",
        "print(x,y,z)"
      ],
      "metadata": {
        "colab": {
          "base_uri": "https://localhost:8080/"
        },
        "id": "mQQv6eFHpbeU",
        "outputId": "4cdd4c92-0f61-4589-9877-2581278f4b38"
      },
      "execution_count": null,
      "outputs": [
        {
          "output_type": "stream",
          "name": "stdout",
          "text": [
            "1001 1001 1001\n"
          ]
        }
      ]
    },
    {
      "cell_type": "code",
      "source": [
        "A = B = C = \"collage\", 25\n",
        "print(A,B,C)"
      ],
      "metadata": {
        "colab": {
          "base_uri": "https://localhost:8080/"
        },
        "id": "CAlqOn-ht8As",
        "outputId": "46405669-4f55-41be-f0de-6f169dccb01f"
      },
      "execution_count": null,
      "outputs": [
        {
          "output_type": "stream",
          "name": "stdout",
          "text": [
            "('collage', 25) ('collage', 25) ('collage', 25)\n"
          ]
        }
      ]
    },
    {
      "cell_type": "code",
      "source": [
        "\n",
        "A = 10\n",
        "B = 20\n",
        "print(\"Addition of\", A,\"&\",B,\"is 30\")"
      ],
      "metadata": {
        "colab": {
          "base_uri": "https://localhost:8080/"
        },
        "id": "OVYL-ceguA0r",
        "outputId": "e2531969-9386-4129-c891-0002af84f54b"
      },
      "execution_count": null,
      "outputs": [
        {
          "output_type": "stream",
          "name": "stdout",
          "text": [
            "Addition of 10 & 20 is 30\n"
          ]
        }
      ]
    },
    {
      "cell_type": "code",
      "source": [
        "A = B = c = \"college\", 25\n",
        "print(A,B,C)"
      ],
      "metadata": {
        "colab": {
          "base_uri": "https://localhost:8080/"
        },
        "id": "7NNsp2Jmvh9s",
        "outputId": "86a93466-a7eb-4d29-9ffa-cccfc730c035"
      },
      "execution_count": null,
      "outputs": [
        {
          "output_type": "stream",
          "name": "stdout",
          "text": [
            "('college', 25) ('college', 25) ('collage', 25)\n"
          ]
        }
      ]
    },
    {
      "cell_type": "code",
      "source": [
        "A = 10\n",
        "print(type(A))"
      ],
      "metadata": {
        "colab": {
          "base_uri": "https://localhost:8080/"
        },
        "id": "rePZ6tjdxdB8",
        "outputId": "1696e106-6415-4186-c50d-6f61a0faaeb5"
      },
      "execution_count": null,
      "outputs": [
        {
          "output_type": "stream",
          "name": "stdout",
          "text": [
            "<class 'int'>\n"
          ]
        }
      ]
    },
    {
      "cell_type": "code",
      "source": [
        "x = 35\n",
        "print(type(x))"
      ],
      "metadata": {
        "colab": {
          "base_uri": "https://localhost:8080/"
        },
        "id": "ffm3HPoUypAt",
        "outputId": "64dbe36d-4ed3-416f-94b1-59654ed48665"
      },
      "execution_count": 24,
      "outputs": [
        {
          "output_type": "stream",
          "name": "stdout",
          "text": [
            "<class 'int'>\n"
          ]
        }
      ]
    },
    {
      "cell_type": "code",
      "source": [
        "college = -100\n",
        "print(type(college))"
      ],
      "metadata": {
        "colab": {
          "base_uri": "https://localhost:8080/"
        },
        "id": "6jr4r68e0cYk",
        "outputId": "22b23b81-0b20-49ca-ad88-ca53615ce860"
      },
      "execution_count": 25,
      "outputs": [
        {
          "output_type": "stream",
          "name": "stdout",
          "text": [
            "<class 'int'>\n"
          ]
        }
      ]
    },
    {
      "cell_type": "code",
      "source": [
        "system = +200\n",
        "print(type(system))"
      ],
      "metadata": {
        "colab": {
          "base_uri": "https://localhost:8080/"
        },
        "id": "_1FUEvKf0uJc",
        "outputId": "0f903289-76c8-4fa0-c188-5f6609d09864"
      },
      "execution_count": 26,
      "outputs": [
        {
          "output_type": "stream",
          "name": "stdout",
          "text": [
            "<class 'int'>\n"
          ]
        }
      ]
    },
    {
      "cell_type": "code",
      "source": [
        "value = -9\n",
        "print(type(value))"
      ],
      "metadata": {
        "colab": {
          "base_uri": "https://localhost:8080/"
        },
        "id": "DhwYWb6f1aaD",
        "outputId": "734444e9-d2fe-409d-9ede-c2f303227356"
      },
      "execution_count": 27,
      "outputs": [
        {
          "output_type": "stream",
          "name": "stdout",
          "text": [
            "<class 'int'>\n"
          ]
        }
      ]
    },
    {
      "cell_type": "code",
      "source": [
        "number = 10001\n",
        "print(type(number))"
      ],
      "metadata": {
        "colab": {
          "base_uri": "https://localhost:8080/"
        },
        "id": "0dfEJ7Bn1rks",
        "outputId": "19da3ebb-1b4c-4749-c30c-42e75106f4d9"
      },
      "execution_count": 28,
      "outputs": [
        {
          "output_type": "stream",
          "name": "stdout",
          "text": [
            "<class 'int'>\n"
          ]
        }
      ]
    },
    {
      "cell_type": "code",
      "source": [
        "value = 3.33\n",
        "print(type(value))"
      ],
      "metadata": {
        "colab": {
          "base_uri": "https://localhost:8080/"
        },
        "id": "yfJTsfQ911gk",
        "outputId": "cb54f350-40f9-4dda-b0bc-4dfc3302a473"
      },
      "execution_count": 29,
      "outputs": [
        {
          "output_type": "stream",
          "name": "stdout",
          "text": [
            "<class 'float'>\n"
          ]
        }
      ]
    },
    {
      "cell_type": "code",
      "source": [
        "Name = -100.33\n",
        "print(type(Name))\n",
        "\n",
        "Run = +20.0\n",
        "print(type(Run))"
      ],
      "metadata": {
        "colab": {
          "base_uri": "https://localhost:8080/"
        },
        "id": "lbUQj96R2YJc",
        "outputId": "7f37d4a4-0631-48e7-871a-f543deb9ce5d"
      },
      "execution_count": 32,
      "outputs": [
        {
          "output_type": "stream",
          "name": "stdout",
          "text": [
            "<class 'float'>\n",
            "<class 'float'>\n"
          ]
        }
      ]
    },
    {
      "cell_type": "code",
      "source": [
        "yes = True\n",
        "print(type(yes))"
      ],
      "metadata": {
        "colab": {
          "base_uri": "https://localhost:8080/"
        },
        "id": "7sUS1Nfe1rec",
        "outputId": "dab7e9e1-9e77-487a-fcee-4fcf5c0a8a35"
      },
      "execution_count": 35,
      "outputs": [
        {
          "output_type": "stream",
          "name": "stdout",
          "text": [
            "<class 'bool'>\n"
          ]
        }
      ]
    },
    {
      "cell_type": "code",
      "source": [
        "yes = 18\n",
        "print(type(yes))"
      ],
      "metadata": {
        "colab": {
          "base_uri": "https://localhost:8080/"
        },
        "id": "rIX8xY-I34CH",
        "outputId": "96f57be6-d4e7-4dc9-9d13-643f7bd512cc"
      },
      "execution_count": 36,
      "outputs": [
        {
          "output_type": "stream",
          "name": "stdout",
          "text": [
            "<class 'int'>\n"
          ]
        }
      ]
    },
    {
      "cell_type": "code",
      "source": [
        "yes = False\n",
        "print(type(yes))"
      ],
      "metadata": {
        "colab": {
          "base_uri": "https://localhost:8080/"
        },
        "id": "HhR-C3P24Gpd",
        "outputId": "09b89b9a-2066-4a44-fd67-edb8307fe98d"
      },
      "execution_count": 37,
      "outputs": [
        {
          "output_type": "stream",
          "name": "stdout",
          "text": [
            "<class 'bool'>\n"
          ]
        }
      ]
    },
    {
      "cell_type": "code",
      "source": [
        "yes = \"False\"\n",
        "print(type(yes))"
      ],
      "metadata": {
        "colab": {
          "base_uri": "https://localhost:8080/"
        },
        "id": "GWLEp0Wn4Gst",
        "outputId": "acb93205-fc5e-4db1-df0b-30cb27738c21"
      },
      "execution_count": 38,
      "outputs": [
        {
          "output_type": "stream",
          "name": "stdout",
          "text": [
            "<class 'str'>\n"
          ]
        }
      ]
    },
    {
      "cell_type": "code",
      "source": [
        "Roll_number = \"101\"\n",
        "print(type(Roll_number))"
      ],
      "metadata": {
        "colab": {
          "base_uri": "https://localhost:8080/"
        },
        "id": "8wd8hS6p4GvO",
        "outputId": "d0d95190-6202-41ff-ec9c-3cd1e06c44c5"
      },
      "execution_count": 40,
      "outputs": [
        {
          "output_type": "stream",
          "name": "stdout",
          "text": [
            "<class 'str'>\n"
          ]
        }
      ]
    },
    {
      "cell_type": "code",
      "source": [
        "value = 27.12\n",
        "print(type(value))"
      ],
      "metadata": {
        "colab": {
          "base_uri": "https://localhost:8080/"
        },
        "id": "6vnHqAmQ4GyO",
        "outputId": "23a4226e-dfe0-4fb0-e5db-e3c69ccd1f71"
      },
      "execution_count": 41,
      "outputs": [
        {
          "output_type": "stream",
          "name": "stdout",
          "text": [
            "<class 'float'>\n"
          ]
        }
      ]
    },
    {
      "cell_type": "code",
      "source": [
        "Section = C\n",
        "print(type(Section))"
      ],
      "metadata": {
        "colab": {
          "base_uri": "https://localhost:8080/"
        },
        "id": "I0q5zZDf5StW",
        "outputId": "4446ed50-0c20-45f2-d11a-248e7ada09d0"
      },
      "execution_count": 42,
      "outputs": [
        {
          "output_type": "stream",
          "name": "stdout",
          "text": [
            "<class 'tuple'>\n"
          ]
        }
      ]
    },
    {
      "cell_type": "code",
      "source": [
        "programe = \"programe\"\n",
        "print(type(programe))"
      ],
      "metadata": {
        "colab": {
          "base_uri": "https://localhost:8080/"
        },
        "id": "Fqh1UFds5Swo",
        "outputId": "89aa1633-2014-414e-c8ce-10de7c9177fc"
      },
      "execution_count": 43,
      "outputs": [
        {
          "output_type": "stream",
          "name": "stdout",
          "text": [
            "<class 'str'>\n"
          ]
        }
      ]
    },
    {
      "cell_type": "code",
      "source": [
        "string = \"python programming languages\"\n",
        "print(string)"
      ],
      "metadata": {
        "colab": {
          "base_uri": "https://localhost:8080/"
        },
        "id": "Di069H095Szw",
        "outputId": "af5e6ae8-7c1e-4d88-e6db-ec3c629be604"
      },
      "execution_count": 44,
      "outputs": [
        {
          "output_type": "stream",
          "name": "stdout",
          "text": [
            "python programming languages\n"
          ]
        }
      ]
    },
    {
      "cell_type": "code",
      "source": [
        "print(type(string))"
      ],
      "metadata": {
        "colab": {
          "base_uri": "https://localhost:8080/"
        },
        "id": "tmPp0OJ85S5P",
        "outputId": "6c1f23ca-ce36-4e8c-b4b1-8a2d5e058884"
      },
      "execution_count": 45,
      "outputs": [
        {
          "output_type": "stream",
          "name": "stdout",
          "text": [
            "<class 'str'>\n"
          ]
        }
      ]
    },
    {
      "cell_type": "code",
      "source": [
        "# string = \"python programming languages\"\n",
        "# print(string)\n",
        "\n",
        "# print(type(stringf))\n",
        "\n",
        "first = \"BKC\"\n",
        "second = \"college\"\n",
        "print(((first+\" \"+second)+\"\\n\")*5)"
      ],
      "metadata": {
        "colab": {
          "base_uri": "https://localhost:8080/"
        },
        "id": "wZxwCI318mEk",
        "outputId": "1fbf5db5-539d-4138-af9e-8a025a913a7a"
      },
      "execution_count": 72,
      "outputs": [
        {
          "output_type": "stream",
          "name": "stdout",
          "text": [
            "BKC college\n",
            "BKC college\n",
            "BKC college\n",
            "BKC college\n",
            "BKC college\n",
            "\n"
          ]
        }
      ]
    },
    {
      "cell_type": "code",
      "source": [
        "first = \"BKC\"\n",
        "second = \"College\"\n",
        "print(first, second)"
      ],
      "metadata": {
        "colab": {
          "base_uri": "https://localhost:8080/"
        },
        "id": "HbGzX1p5_p6h",
        "outputId": "3b76f3f6-6aa3-40b8-a0b8-136092476da0"
      },
      "execution_count": 64,
      "outputs": [
        {
          "output_type": "stream",
          "name": "stdout",
          "text": [
            "BKC College\n"
          ]
        }
      ]
    },
    {
      "cell_type": "code",
      "source": [
        "Name = (\"Python programming Languages\")\n",
        "print(Name[5])\n",
        "print(Name[-2])\n",
        "print(Name[18])\n",
        "print(Name[3:14])\n",
        "print(Name[:20])\n",
        "print(Name[6:])\n",
        "print(Name[:-1])\n",
        "print(Name[-22:-4])\n",
        "print(Name[::1])\n",
        "print(Name[::2])\n",
        "print(Name[::-1])\n",
        "print(Name[::-3])\n"
      ],
      "metadata": {
        "colab": {
          "base_uri": "https://localhost:8080/"
        },
        "id": "HLzCcA018m4r",
        "outputId": "ca5d0b6c-089f-4309-9040-12959e75519b"
      },
      "execution_count": 87,
      "outputs": [
        {
          "output_type": "stream",
          "name": "stdout",
          "text": [
            "n\n",
            "e\n",
            " \n",
            "hon program\n",
            "Python programming L\n",
            " programming Languages\n",
            "Python programming Language\n",
            " programming Langu\n",
            "Python programming Languages\n",
            "Pto rgamn agae\n",
            "segaugnaL gnimmargorp nohtyP\n",
            "san iao hP\n"
          ]
        }
      ]
    },
    {
      "cell_type": "code",
      "source": [
        "# Hi Good Morning 'Single line comment'\n",
        "Details ='''multi line comments\n",
        "hi, Good Morning\n",
        "'''\n",
        "print(Details)"
      ],
      "metadata": {
        "colab": {
          "base_uri": "https://localhost:8080/"
        },
        "id": "FebsJ0yG8nPz",
        "outputId": "9e454dd9-b4aa-4138-97bd-cd182708b712"
      },
      "execution_count": 89,
      "outputs": [
        {
          "output_type": "stream",
          "name": "stdout",
          "text": [
            "multi line comments\n",
            "hi, Good Morning\n",
            "\n"
          ]
        }
      ]
    },
    {
      "cell_type": "code",
      "source": [
        "Roll_Number = 1,2,3,4,5,6,7,8,9,10,11,12,13,14,15,16,17,18,19,20,21,22,23,24,25,26,27,28,29,30,31,32,33,34,35,36,37,38,39,40,41,42,43,44,45,46,47,48,49,50,51,52,53,54,55,56,57,58,59,60\n",
        "print(Roll_Number)"
      ],
      "metadata": {
        "colab": {
          "base_uri": "https://localhost:8080/"
        },
        "id": "ctn1IO2H8nzL",
        "outputId": "693f71be-6238-4510-b782-7f43925ff307"
      },
      "execution_count": 94,
      "outputs": [
        {
          "output_type": "stream",
          "name": "stdout",
          "text": [
            "(1, 2, 3, 4, 5, 6, 7, 8, 9, 10, 11, 12, 13, 14, 15, 16, 17, 18, 19, 20, 21, 22, 23, 24, 25, 26, 27, 28, 29, 30, 31, 32, 33, 34, 35, 36, 37, 38, 39, 40, 41, 42, 43, 44, 45, 46, 47, 48, 49, 50, 51, 52, 53, 54, 55, 56, 57, 58, 59, 60)\n"
          ]
        }
      ]
    },
    {
      "cell_type": "code",
      "source": [
        "list1 = [101]\n",
        "print(list1)\n",
        "print(type(list1))\n",
        "list1.append(\"Dnyanu\")\n",
        "print(list1)"
      ],
      "metadata": {
        "colab": {
          "base_uri": "https://localhost:8080/"
        },
        "id": "eHMyzVk8Ovoe",
        "outputId": "b28e2b37-f56d-49fe-e613-ca1e1b1556b9"
      },
      "execution_count": 100,
      "outputs": [
        {
          "output_type": "stream",
          "name": "stdout",
          "text": [
            "[101]\n",
            "<class 'list'>\n",
            "[101, 'Dnyanu']\n"
          ]
        }
      ]
    },
    {
      "cell_type": "code",
      "source": [
        "details = [101]\n",
        "print(details)\n",
        "print(type(details))\n",
        "details.append(85.12)\n",
        "print(details)\n",
        "details.append(True)\n",
        "print(details)\n",
        "print(len(details))\n",
        "print(details.pop())\n",
        "print(details)\n",
        "details.append(\"dnyanu\")\n",
        "print(details)\n",
        "details.append(\"-99\")\n",
        "print(details)\n",
        "print(len(details))\n",
        "print(details[2])\n",
        "print(details[-1])\n",
        "details.append(\"BKC collage\")\n",
        "print(details)\n",
        "details[3] = 99\n",
        "print(details)\n",
        "print(details[2:4])\n",
        "details.insert(2,False)\n",
        "print(details)\n",
        "details.remove(False)\n",
        "print(details)\n",
        "print(len(details))\n",
        "print(details[4])\n",
        "print(details[::-2])\n",
        "print(details.count(101))\n",
        "print(details.clear())\n",
        "print(details)\n",
        "print(type(details))\n"
      ],
      "metadata": {
        "colab": {
          "base_uri": "https://localhost:8080/"
        },
        "id": "rdNa9b6lYMIq",
        "outputId": "3d362f62-45d6-4d32-e05d-fbe68be076ee"
      },
      "execution_count": 138,
      "outputs": [
        {
          "output_type": "stream",
          "name": "stdout",
          "text": [
            "[101]\n",
            "<class 'list'>\n",
            "[101, 85.12]\n",
            "[101, 85.12, True]\n",
            "3\n",
            "True\n",
            "[101, 85.12]\n",
            "[101, 85.12, 'dnyanu']\n",
            "[101, 85.12, 'dnyanu', '-99']\n",
            "4\n",
            "dnyanu\n",
            "-99\n",
            "[101, 85.12, 'dnyanu', '-99', 'BKC collage']\n",
            "[101, 85.12, 'dnyanu', 99, 'BKC collage']\n",
            "['dnyanu', 99]\n",
            "[101, 85.12, False, 'dnyanu', 99, 'BKC collage']\n",
            "[101, 85.12, 'dnyanu', 99, 'BKC collage']\n",
            "5\n",
            "BKC collage\n",
            "['BKC collage', 'dnyanu', 101]\n",
            "1\n",
            "None\n",
            "[]\n",
            "<class 'list'>\n"
          ]
        }
      ]
    },
    {
      "cell_type": "code",
      "source": [
        "Information = [102]\n",
        "print(Information)\n",
        "print(type(Information))\n",
        "Information.append(94.56)\n",
        "print(Information)\n",
        "Information.append(True)\n",
        "print(Information)\n",
        "print(len(Information))\n",
        "print(Information.pop())\n",
        "print(Information)\n",
        "Information.append(\"ramya\")\n",
        "print(Information)\n",
        "Information.append(\"-89\")\n",
        "print(Information)\n",
        "print(len(Information))\n",
        "print(Information[2])\n",
        "print(Information[-1])\n",
        "Information.append(\"BKC college\")\n",
        "print(Information)\n",
        "Information[3] = 89\n",
        "print(Information)\n",
        "print(Information[2:4])\n",
        "Information.insert(2,False)\n",
        "print(Information)\n",
        "Information.remove(False)\n",
        "print(Information)\n",
        "print(len(Information))"
      ],
      "metadata": {
        "colab": {
          "base_uri": "https://localhost:8080/"
        },
        "id": "q9XPHmu4S1dk",
        "outputId": "7d7465db-fcea-4ae3-ab24-2c96dee80349"
      },
      "execution_count": 149,
      "outputs": [
        {
          "output_type": "stream",
          "name": "stdout",
          "text": [
            "[102]\n",
            "<class 'list'>\n",
            "[102, 94.56]\n",
            "[102, 94.56, True]\n",
            "3\n",
            "True\n",
            "[102, 94.56]\n",
            "[102, 94.56, 'ramya']\n",
            "[102, 94.56, 'ramya', '-89']\n",
            "4\n",
            "ramya\n",
            "-89\n",
            "[102, 94.56, 'ramya', '-89', 'BKC college']\n",
            "[102, 94.56, 'ramya', 89, 'BKC college']\n",
            "['ramya', 89]\n",
            "[102, 94.56, False, 'ramya', 89, 'BKC college']\n",
            "[102, 94.56, 'ramya', 89, 'BKC college']\n",
            "5\n"
          ]
        }
      ]
    },
    {
      "cell_type": "code",
      "source": [],
      "metadata": {
        "id": "dWrGPfLjytmA"
      },
      "execution_count": null,
      "outputs": []
    },
    {
      "cell_type": "code",
      "source": [],
      "metadata": {
        "id": "YHVtMnvUP9qd"
      },
      "execution_count": null,
      "outputs": []
    }
  ]
}