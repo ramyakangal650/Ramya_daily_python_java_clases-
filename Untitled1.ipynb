{
  "nbformat": 4,
  "nbformat_minor": 0,
  "metadata": {
    "colab": {
      "provenance": []
    },
    "kernelspec": {
      "name": "python3",
      "display_name": "Python 3"
    },
    "language_info": {
      "name": "python"
    }
  },
  "cells": [
    {
      "cell_type": "code",
      "source": [
        "import numpy as Dnyanu\n",
        "arr = Dnyanu.array([1, 2, 3, 4, 5])\n",
        "print(\"NumPy Array:\",arr)"
      ],
      "metadata": {
        "colab": {
          "base_uri": "https://localhost:8080/"
        },
        "id": "Thp8JPC4dAl5",
        "outputId": "0302f7cc-9562-47df-9be9-bca754e72134"
      },
      "execution_count": 3,
      "outputs": [
        {
          "output_type": "stream",
          "name": "stdout",
          "text": [
            "NumPy Array: [1 2 3 4 5]\n"
          ]
        }
      ]
    },
    {
      "cell_type": "code",
      "execution_count": 4,
      "metadata": {
        "colab": {
          "base_uri": "https://localhost:8080/"
        },
        "id": "vRkC4gJ4c407",
        "outputId": "4e4f50f8-61b8-4ca1-e174-0e9a5f15f252"
      },
      "outputs": [
        {
          "output_type": "stream",
          "name": "stdout",
          "text": [
            "Zeros: [0. 0. 0. 0. 0.]\n",
            "Ones: [1. 1. 1. 1. 1.]\n"
          ]
        }
      ],
      "source": [
        "# Array with Zeros and Ones\n",
        "import numpy as np\n",
        "zeros = np.zeros(5)\n",
        "ones = np.ones(5)\n",
        "print(\"Zeros:\", zeros)\n",
        "print(\"Ones:\", ones)"
      ]
    },
    {
      "cell_type": "code",
      "source": [
        "import numpy as np\n",
        "a = np.array([10, 20, 30])\n",
        "b = np.array([1, 2, 3])\n",
        "print(\"Addition:\", a + b)\n",
        "print(\"Multiplication:\", a * b)"
      ],
      "metadata": {
        "colab": {
          "base_uri": "https://localhost:8080/"
        },
        "id": "saHakOrbi66x",
        "outputId": "4a3d67c8-a8a8-4d5f-d794-1adcb279604e"
      },
      "execution_count": 5,
      "outputs": [
        {
          "output_type": "stream",
          "name": "stdout",
          "text": [
            "Addition: [11 22 33]\n",
            "Multiplication: [10 40 90]\n"
          ]
        }
      ]
    },
    {
      "cell_type": "code",
      "source": [
        "# Mathematical Functions\n",
        "import numpy as np\n",
        "arr = np.array([1, 4, 9, 16])\n",
        "print(\"Square Root:\", np.sqrt(arr))\n",
        "print(\"Mean:\", np.mean(arr))\n"
      ],
      "metadata": {
        "colab": {
          "base_uri": "https://localhost:8080/"
        },
        "id": "PQ8YzHZbi7Hv",
        "outputId": "9bb122af-748f-4d36-bb96-3679a4d56afa"
      },
      "execution_count": 7,
      "outputs": [
        {
          "output_type": "stream",
          "name": "stdout",
          "text": [
            "Square Root: [1. 2. 3. 4.]\n",
            "Mean: 7.5\n"
          ]
        }
      ]
    },
    {
      "cell_type": "code",
      "source": [
        "import numpy as np\n",
        "from scipy import stats\n",
        "data = np.array([2,4,6,8,10,12,16])\n",
        "mean = np.mean(data)\n",
        "print(\"Mean:\", mean)\n",
        "mode = stats.mode(data)\n",
        "print(\"Mode:\", mode)\n",
        "range = np.max(data) - np.min(data)\n",
        "print(\"Range:\", range)\n",
        "median = np.median(data)\n",
        "print(\"Median:\", median)\n",
        "variance = np.var(data)\n",
        "print(\"Variance:\", variance)\n",
        "standard_deviation = np.std(data)\n",
        "print(\"Standard Deviation:\", standard_deviation)\n",
        "\n"
      ],
      "metadata": {
        "colab": {
          "base_uri": "https://localhost:8080/"
        },
        "id": "J0aZxpwXi7Mo",
        "outputId": "3defcf4c-a284-4e1e-ef78-7eb12580b9d6"
      },
      "execution_count": 22,
      "outputs": [
        {
          "output_type": "stream",
          "name": "stdout",
          "text": [
            "Mean: 8.285714285714286\n",
            "Mode: ModeResult(mode=np.int64(2), count=np.int64(1))\n",
            "Range: 14\n",
            "Median: 8.0\n",
            "Variance: 19.918367346938773\n",
            "Standard Deviation: 4.462999814803802\n"
          ]
        }
      ]
    },
    {
      "cell_type": "code",
      "source": [
        "import numpy as np\n",
        "matrix = np.array([[1, 2, 3], [4, 5, 6], [7, 8, 9]])\n",
        "print(\"Matrix:\\n\", matrix)\n",
        "print(\"Transpose:\\n\", matrix.T)"
      ],
      "metadata": {
        "colab": {
          "base_uri": "https://localhost:8080/"
        },
        "id": "XtXJISHRnz6E",
        "outputId": "9e00ea46-bc95-4b8b-a9b7-eff9567ca3b7"
      },
      "execution_count": 27,
      "outputs": [
        {
          "output_type": "stream",
          "name": "stdout",
          "text": [
            "Matrix:\n",
            " [[1 2 3]\n",
            " [4 5 6]\n",
            " [7 8 9]]\n",
            "Transpose:\n",
            " [[1 4 7]\n",
            " [2 5 8]\n",
            " [3 6 9]]\n"
          ]
        }
      ]
    }
  ]
}