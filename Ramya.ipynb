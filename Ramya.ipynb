{
  "nbformat": 4,
  "nbformat_minor": 0,
  "metadata": {
    "colab": {
      "provenance": [],
      "toc_visible": true
    },
    "kernelspec": {
      "name": "python3",
      "display_name": "Python 3"
    },
    "language_info": {
      "name": "python"
    }
  },
  "cells": [
    {
      "cell_type": "code",
      "execution_count": 108,
      "metadata": {
        "colab": {
          "base_uri": "https://localhost:8080/"
        },
        "id": "spVbfC2XZapx",
        "outputId": "03a747cb-e854-491f-c341-2effff3c65e2"
      },
      "outputs": [
        {
          "output_type": "stream",
          "name": "stdout",
          "text": [
            "<class 'int'>\n",
            "<class 'int'>\n",
            "<class 'int'>\n",
            "<class 'float'>\n",
            "<class 'float'>\n"
          ]
        }
      ],
      "source": [
        " a = 10\n",
        " print(type(a))\n",
        " b = 3\n",
        " print(type(b))\n",
        " c = a+b\n",
        " print(type(c))\n",
        " print(type(a/b))\n",
        " x = 2.5\n",
        " y = 3.5\n",
        " print(type(x + y))\n",
        ""
      ]
    },
    {
      "cell_type": "code",
      "source": [
        "# int -> float\n",
        "i = 20\n",
        "j = 5.5\n",
        "k = i + j\n",
        "print(type(k))\n"
      ],
      "metadata": {
        "colab": {
          "base_uri": "https://localhost:8080/"
        },
        "id": "IppGBMBrerri",
        "outputId": "6a9f60b3-2d46-4dad-84fa-d9507c6b9224"
      },
      "execution_count": 109,
      "outputs": [
        {
          "output_type": "stream",
          "name": "stdout",
          "text": [
            "<class 'float'>\n"
          ]
        }
      ]
    },
    {
      "cell_type": "code",
      "source": [
        "# int -> float\n",
        "a = 49\n",
        "b = 7\n",
        "print(type(a/b))"
      ],
      "metadata": {
        "colab": {
          "base_uri": "https://localhost:8080/"
        },
        "id": "925TyqVbhCj9",
        "outputId": "cdc62855-d29a-4e19-d90d-3ff2efaf348e"
      },
      "execution_count": 110,
      "outputs": [
        {
          "output_type": "stream",
          "name": "stdout",
          "text": [
            "<class 'float'>\n"
          ]
        }
      ]
    },
    {
      "cell_type": "code",
      "source": [
        "i = True\n",
        "j = 5\n",
        "print(type(i+j))\n",
        "print(type(i))"
      ],
      "metadata": {
        "colab": {
          "base_uri": "https://localhost:8080/"
        },
        "id": "fGk3-olXh_6W",
        "outputId": "27f5aded-22d7-4d41-818a-bb704d1de096"
      },
      "execution_count": 111,
      "outputs": [
        {
          "output_type": "stream",
          "name": "stdout",
          "text": [
            "<class 'int'>\n",
            "<class 'bool'>\n"
          ]
        }
      ]
    },
    {
      "cell_type": "code",
      "source": [
        "m = 2.9\n",
        "n = False\n",
        "o = m - n\n",
        "print(type(o))"
      ],
      "metadata": {
        "colab": {
          "base_uri": "https://localhost:8080/"
        },
        "id": "P1yCrPt2h_-V",
        "outputId": "e5922603-c790-490c-954c-d0f34a34d88d"
      },
      "execution_count": 112,
      "outputs": [
        {
          "output_type": "stream",
          "name": "stdout",
          "text": [
            "<class 'float'>\n"
          ]
        }
      ]
    },
    {
      "cell_type": "code",
      "source": [
        "p = True\n",
        "q = False\n",
        "r = p + q\n",
        "print(type(r))\n",
        "\n",
        "s = 2.5\n",
        "t = False\n",
        "print(type(s * t))\n",
        "\n",
        "num = 3.12\n",
        "print(type(num))\n",
        "\n",
        "add = int(num)\n",
        "print(type(add))\n",
        "\n",
        "num = float(add)\n",
        "print(type(num))\n",
        "\n"
      ],
      "metadata": {
        "colab": {
          "base_uri": "https://localhost:8080/"
        },
        "id": "b1dbJun0iAAW",
        "outputId": "2f9eaf4f-708a-4b7e-b009-36f42b4442b2"
      },
      "execution_count": 113,
      "outputs": [
        {
          "output_type": "stream",
          "name": "stdout",
          "text": [
            "<class 'int'>\n",
            "<class 'float'>\n",
            "<class 'float'>\n",
            "<class 'int'>\n",
            "<class 'float'>\n"
          ]
        }
      ]
    },
    {
      "cell_type": "code",
      "source": [
        "mul = float(add)\n",
        "print(type(mul))\n",
        "\n",
        "num = \"101\"\n",
        "print(type(num))\n",
        "\n",
        "add = int(num)\n",
        "print(type(add))\n",
        "\n",
        "num= True\n",
        "print(type(num))\n",
        "\n",
        "\n",
        "add = int(num)\n",
        "print(type(add))\n",
        "men = 34\n",
        "print(type(men))\n"
      ],
      "metadata": {
        "colab": {
          "base_uri": "https://localhost:8080/"
        },
        "id": "RTomE8RmiADx",
        "outputId": "067a8184-0f8d-4847-8e61-90b66e70ca3e"
      },
      "execution_count": 114,
      "outputs": [
        {
          "output_type": "stream",
          "name": "stdout",
          "text": [
            "<class 'float'>\n",
            "<class 'str'>\n",
            "<class 'int'>\n",
            "<class 'bool'>\n",
            "<class 'int'>\n",
            "<class 'int'>\n"
          ]
        }
      ]
    },
    {
      "cell_type": "code",
      "source": [
        "print(type(str(100)))\n",
        "\n",
        "print(type(bool(True)))\n",
        "a = 2.3\n",
        "print(type(a))\n",
        "print(type(str(a)))\n",
        ""
      ],
      "metadata": {
        "colab": {
          "base_uri": "https://localhost:8080/"
        },
        "id": "ysNjqQVSiAJ1",
        "outputId": "fcaa75b2-b515-4284-a30d-0edfc8c72de0"
      },
      "execution_count": 115,
      "outputs": [
        {
          "output_type": "stream",
          "name": "stdout",
          "text": [
            "<class 'str'>\n",
            "<class 'bool'>\n",
            "<class 'float'>\n",
            "<class 'str'>\n"
          ]
        }
      ]
    },
    {
      "cell_type": "code",
      "source": [
        "a = False\n",
        "print(type(a))\n",
        "print(type(float(a)))\n",
        "\n",
        "Ex = float(a)\n",
        "print(type(Ex))\n",
        "print(type(str(Ex)))\n",
        "\n",
        "demo =\"9\"\n",
        "print(type(demo))\n",
        "print(type(float(demo)))\n",
        "\n",
        "demo = \"ramya\"\n",
        "print(type(demo))\n",
        "print(type(list(demo)))\n",
        "\n",
        "ex = (1,2,3,)\n",
        "print(type(ex))\n",
        "print(type(list(ex)))\n",
        "\n",
        "ex = {1,2,5,4}\n",
        "print(type(ex))\n",
        "print(type(list(ex)))\n",
        "\n",
        "name = {\"neme\": \"sanyu\"}\n",
        "print(type(name))\n",
        "print(type(list(name)))\n",
        "a = \"67\"\n",
        "print(type(a))\n",
        "print(type(tuple(a)))\n",
        "\n",
        "ex = [101]\n",
        "print(type(ex))\n",
        "print(type(tuple(ex)))\n",
        "\n",
        "a = {1,2,3,4}\n",
        "print(type(a))\n",
        "print(type(tuple(a)))\n",
        "\n",
        "name = {}\n",
        "print(type(name))\n",
        "print(type(tuple(name)))\n",
        "\n",
        "a = \"sanyu\"\n",
        "print(type(a))\n",
        "print(type(set(a)))\n",
        "\n",
        "a = [102]\n",
        "print(type(a))\n",
        "print(type(set(a)))\n",
        "\n",
        "a =\"abc\"\n",
        "print(type(a))\n",
        "print(type(set(a)))\n",
        "\n",
        "a = (1,2,3,4)\n",
        "print(type(a))\n",
        "print(type(set(a)))\n",
        "\n",
        "a ={}\n",
        "print(type(a))\n",
        "print(type(set(a)))\n",
        "\n",
        "num ={(\"r_n\",501),(\"section\",\"c\")}\n",
        "print(type(num))\n",
        "\n",
        "num = ((\"name\",\"sanyu\"),(\"age\",25))\n",
        "print(type(num))\n",
        "\n",
        "a =[109]\n",
        "print(type(a))\n",
        "\n",
        "#a=10, b=20\n",
        "#a=20, b=10\n",
        "a=10\n",
        "b=20\n",
        "print(\"before swapping\")\n",
        "print(\"a=\",a,\"b=\",b)\n",
        "print(\"after swapping\")\n",
        "temp=a;\n",
        "a=b;\n",
        "b=temp;\n",
        "print(\"a=\",a,\"b=\",b)\n",
        "\n",
        "a=10\n",
        "b=20\n",
        "print(\"before swapping\")\n",
        "print(\"a=\",a,\"b=\",b)\n",
        "print(\"after swapping\")\n",
        "c=a;\n",
        "a=b;\n",
        "b=c;\n",
        "print(\"a=\",a,\"b=\",b)\n"
      ],
      "metadata": {
        "colab": {
          "base_uri": "https://localhost:8080/"
        },
        "id": "158W5SlmqPwZ",
        "outputId": "77e3e187-3d7f-4a5a-cb53-d2294bbf0fa1"
      },
      "execution_count": 124,
      "outputs": [
        {
          "output_type": "stream",
          "name": "stdout",
          "text": [
            "<class 'bool'>\n",
            "<class 'float'>\n",
            "<class 'float'>\n",
            "<class 'str'>\n",
            "<class 'str'>\n",
            "<class 'float'>\n",
            "<class 'str'>\n",
            "<class 'list'>\n",
            "<class 'tuple'>\n",
            "<class 'list'>\n",
            "<class 'set'>\n",
            "<class 'list'>\n",
            "<class 'dict'>\n",
            "<class 'list'>\n",
            "<class 'str'>\n",
            "<class 'tuple'>\n",
            "<class 'list'>\n",
            "<class 'tuple'>\n",
            "<class 'set'>\n",
            "<class 'tuple'>\n",
            "<class 'dict'>\n",
            "<class 'tuple'>\n",
            "<class 'str'>\n",
            "<class 'set'>\n",
            "<class 'list'>\n",
            "<class 'set'>\n",
            "<class 'str'>\n",
            "<class 'set'>\n",
            "<class 'tuple'>\n",
            "<class 'set'>\n",
            "<class 'dict'>\n",
            "<class 'set'>\n",
            "<class 'set'>\n",
            "<class 'tuple'>\n",
            "<class 'list'>\n",
            "before swapping\n",
            "a= 10 b= 20\n",
            "after swapping\n",
            "a= 20 b= 10\n",
            "before swapping\n",
            "a= 10 b= 20\n",
            "after swapping\n",
            "a= 20 b= 10\n"
          ]
        }
      ]
    },
    {
      "cell_type": "code",
      "source": [],
      "metadata": {
        "id": "DrDzB05C6zfS"
      },
      "execution_count": null,
      "outputs": []
    },
    {
      "cell_type": "code",
      "source": [],
      "metadata": {
        "id": "ky63OjWT6zaD"
      },
      "execution_count": null,
      "outputs": []
    },
    {
      "cell_type": "code",
      "source": [],
      "metadata": {
        "id": "lcMhcLzX6zUt"
      },
      "execution_count": null,
      "outputs": []
    },
    {
      "cell_type": "code",
      "source": [],
      "metadata": {
        "id": "AwZP5El46zNi"
      },
      "execution_count": null,
      "outputs": []
    },
    {
      "cell_type": "code",
      "source": [],
      "metadata": {
        "id": "HyPTTTOr6zEC"
      },
      "execution_count": null,
      "outputs": []
    },
    {
      "cell_type": "code",
      "source": [],
      "metadata": {
        "id": "t03IbJin6y5D"
      },
      "execution_count": null,
      "outputs": []
    }
  ]
}