{
  "nbformat": 4,
  "nbformat_minor": 0,
  "metadata": {
    "colab": {
      "provenance": []
    },
    "kernelspec": {
      "name": "python3",
      "display_name": "Python 3"
    },
    "language_info": {
      "name": "python"
    }
  },
  "cells": [
    {
      "cell_type": "code",
      "source": [
        "print(\"Dnyaneshwari\")"
      ],
      "metadata": {
        "colab": {
          "base_uri": "https://localhost:8080/"
        },
        "id": "zk7zjV1AahNq",
        "outputId": "783b97b4-09e3-4772-ad87-29c936ca4a5e"
      },
      "execution_count": 12,
      "outputs": [
        {
          "output_type": "stream",
          "name": "stdout",
          "text": [
            "Dnyaneshwari\n"
          ]
        }
      ]
    },
    {
      "cell_type": "code",
      "source": [
        "print(\"i am dnyaneshwari i have complited my puc in BJPU College in 2025 i got percntage 69.13\")"
      ],
      "metadata": {
        "colab": {
          "base_uri": "https://localhost:8080/"
        },
        "id": "eXCxn-hFfYdK",
        "outputId": "cf1afa10-f174-403b-e930-de2fb7ca4eb8"
      },
      "execution_count": 22,
      "outputs": [
        {
          "output_type": "stream",
          "name": "stdout",
          "text": [
            "i am dnyaneshwari i have complited my puc in BJPU College in 2025 i got percntage 69.13\n"
          ]
        }
      ]
    },
    {
      "cell_type": "code",
      "source": [
        "print(10*5)"
      ],
      "metadata": {
        "colab": {
          "base_uri": "https://localhost:8080/"
        },
        "id": "KGNGCWO4a4r6",
        "outputId": "cd09f055-2768-4b66-87ae-34ec993df09a"
      },
      "execution_count": 14,
      "outputs": [
        {
          "output_type": "stream",
          "name": "stdout",
          "text": [
            "50\n"
          ]
        }
      ]
    },
    {
      "cell_type": "code",
      "source": [
        "print(\"Hello\" + \"World\")"
      ],
      "metadata": {
        "colab": {
          "base_uri": "https://localhost:8080/"
        },
        "id": "OK1tiP2vZiGK",
        "outputId": "161a7cd0-6f9d-4a77-a4f4-dfa39bc3dcb3"
      },
      "execution_count": 11,
      "outputs": [
        {
          "output_type": "stream",
          "name": "stdout",
          "text": [
            "HelloWorld\n"
          ]
        }
      ]
    },
    {
      "cell_type": "code",
      "source": [
        "print(\"Good morning\")"
      ],
      "metadata": {
        "colab": {
          "base_uri": "https://localhost:8080/"
        },
        "id": "tVIWXpnqasPq",
        "outputId": "9c6c2859-a1f3-413f-fd72-3e8eb4db4106"
      },
      "execution_count": 13,
      "outputs": [
        {
          "output_type": "stream",
          "name": "stdout",
          "text": [
            "Good morning\n"
          ]
        }
      ]
    },
    {
      "cell_type": "code",
      "source": [
        "print(\"Good Morning\\n\" *10)"
      ],
      "metadata": {
        "colab": {
          "base_uri": "https://localhost:8080/"
        },
        "id": "KxiGbVCKZWtv",
        "outputId": "82845136-8b6e-4d3b-ffc6-3a1691157f3d"
      },
      "execution_count": 10,
      "outputs": [
        {
          "output_type": "stream",
          "name": "stdout",
          "text": [
            "Good Morning\n",
            "Good Morning\n",
            "Good Morning\n",
            "Good Morning\n",
            "Good Morning\n",
            "Good Morning\n",
            "Good Morning\n",
            "Good Morning\n",
            "Good Morning\n",
            "Good Morning\n",
            "\n"
          ]
        }
      ]
    },
    {
      "cell_type": "code",
      "source": [
        "print(\"DBMS 23\")\n",
        "print(\"CCP 28\")\n",
        "print(\"Account 15\")\n",
        "print(\"IC 20\")\n",
        "print(\"English 28\")\n",
        "print(\"Hindi 30\")"
      ],
      "metadata": {
        "colab": {
          "base_uri": "https://localhost:8080/"
        },
        "id": "9hyVMgqcYkKN",
        "outputId": "bbbd7f89-b21b-4371-e247-c4cb8333de22"
      },
      "execution_count": 9,
      "outputs": [
        {
          "output_type": "stream",
          "name": "stdout",
          "text": [
            "DBMS 23\n",
            "CCP 28\n",
            "Account 15\n",
            "IC 20\n",
            "English 28\n",
            "Hindi 30\n"
          ]
        }
      ]
    },
    {
      "cell_type": "code",
      "source": [
        "print(\"DBMS 23\")\n"
      ],
      "metadata": {
        "id": "PmlZ4I82Xb-6"
      },
      "execution_count": null,
      "outputs": []
    },
    {
      "cell_type": "code",
      "execution_count": 3,
      "metadata": {
        "colab": {
          "base_uri": "https://localhost:8080/"
        },
        "id": "sAA-V9LaWROd",
        "outputId": "d37d33ee-5275-486c-b937-7b54f53743f4"
      },
      "outputs": [
        {
          "output_type": "stream",
          "name": "stdout",
          "text": [
            "15 15\n"
          ]
        }
      ],
      "source": [
        "X = 15\n",
        "print(X,X)"
      ]
    },
    {
      "cell_type": "code",
      "source": [
        "y=True\n",
        "print(y)"
      ],
      "metadata": {
        "colab": {
          "base_uri": "https://localhost:8080/"
        },
        "id": "Q0aHA_-uXBBq",
        "outputId": "301ff9ac-a5b7-459b-c083-95810591d710"
      },
      "execution_count": 4,
      "outputs": [
        {
          "output_type": "stream",
          "name": "stdout",
          "text": [
            "True\n"
          ]
        }
      ]
    },
    {
      "cell_type": "code",
      "source": [
        "yes = True\n",
        "print(yes)"
      ],
      "metadata": {
        "colab": {
          "base_uri": "https://localhost:8080/"
        },
        "id": "-_ErVbsOXMe6",
        "outputId": "c7e14348-6773-407f-d5fe-a7efb84ae60b"
      },
      "execution_count": 5,
      "outputs": [
        {
          "output_type": "stream",
          "name": "stdout",
          "text": [
            "True\n"
          ]
        }
      ]
    },
    {
      "cell_type": "code",
      "source": [
        "NA_12_ME = \"chikodi\"\n",
        "print(NA_12_ME)"
      ],
      "metadata": {
        "colab": {
          "base_uri": "https://localhost:8080/"
        },
        "id": "OMlnvzpEXYkp",
        "outputId": "b1ca7d06-3a47-4005-b504-50bd4a2a8f94"
      },
      "execution_count": 6,
      "outputs": [
        {
          "output_type": "stream",
          "name": "stdout",
          "text": [
            "chikodi\n"
          ]
        }
      ]
    },
    {
      "cell_type": "code",
      "source": [
        "name = \"college\"\n",
        "Per = 63.34\n",
        "print(name, Per)"
      ],
      "metadata": {
        "colab": {
          "base_uri": "https://localhost:8080/"
        },
        "id": "JyP9kcKtYCvb",
        "outputId": "5fa43606-c65f-4115-bde6-63c4e1e053d6"
      },
      "execution_count": 8,
      "outputs": [
        {
          "output_type": "stream",
          "name": "stdout",
          "text": [
            "college 63.34\n"
          ]
        }
      ]
    },
    {
      "cell_type": "code",
      "source": [
        "# My name is Anand, i'm studying in BKC College\n",
        "\n",
        "College = \"BKC College\"\n",
        "name = \"Anand\"\n",
        "print(\"My name is \",name,\"I'm studing in \",College)"
      ],
      "metadata": {
        "colab": {
          "base_uri": "https://localhost:8080/"
        },
        "id": "UfqxYmegZqbx",
        "outputId": "d5075d97-a094-4bd9-d219-52eaa08181fe"
      },
      "execution_count": 18,
      "outputs": [
        {
          "output_type": "stream",
          "name": "stdout",
          "text": [
            "My name is  Anand I'm studing in  BKC College\n"
          ]
        }
      ]
    },
    {
      "cell_type": "code",
      "source": [
        "# I have completed PUC in Sanketh Pu college in the year of 2020, i got percentage is 85.33\n",
        "\n",
        "name = \"Sanketh\"\n",
        "per = 85.33\n",
        "year = 2020\n",
        "\n",
        "print(\"I have completed PUC in\",name,\"Pu college in the year of\",year,\",i got percentage is\",per)\n"
      ],
      "metadata": {
        "colab": {
          "base_uri": "https://localhost:8080/"
        },
        "id": "ovxIgwDkcF06",
        "outputId": "ab7820ec-55ad-4649-f8c0-a1726ebac617"
      },
      "execution_count": 21,
      "outputs": [
        {
          "output_type": "stream",
          "name": "stdout",
          "text": [
            "I have completed PUC in Sanketh Pu college in the year of 2020 ,i got percentage is 85.33\n"
          ]
        }
      ]
    },
    {
      "cell_type": "code",
      "source": [
        "# Hollo Good Evening, How are you, i'm fine, where are you from i'm from chikodi,so nice\n",
        "\n",
        "text = \"Good Evening\"\n",
        "address = \"i'm from chikodi\"\n",
        "\n",
        "print(\"Hello\",text, \",How are you, i'm fine,where are you from\",address,\", so nice\")"
      ],
      "metadata": {
        "colab": {
          "base_uri": "https://localhost:8080/"
        },
        "id": "nNC1mwWYf9fK",
        "outputId": "782f0a26-186c-447b-eea2-dcb04bce99a4"
      },
      "execution_count": 24,
      "outputs": [
        {
          "output_type": "stream",
          "name": "stdout",
          "text": [
            "Hello Good Evening ,How are you, i'm fine,where are you from i'm from chikodi , so nice\n"
          ]
        }
      ]
    }
  ]
}